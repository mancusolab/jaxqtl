{
 "cells": [
  {
   "cell_type": "markdown",
   "id": "ce412e60-d13f-47cb-b938-632a2f36d43d",
   "metadata": {},
   "source": [
    "# eQTL mapping example for n=94"
   ]
  },
  {
   "cell_type": "code",
   "execution_count": 1,
   "id": "3bce7902-ba74-4a07-ab5e-9c57345baff3",
   "metadata": {},
   "outputs": [
    {
     "name": "stderr",
     "output_type": "stream",
     "text": [
      "OMP: Info #276: omp_set_nested routine deprecated, please use omp_set_max_active_levels instead.\n"
     ]
    }
   ],
   "source": [
    "import pandas as pd\n",
    "import os\n",
    "\n",
    "from jax.config import config\n",
    "\n",
    "from jaxqtl.families.distribution import Poisson\n",
    "from jaxqtl.io.geno import PlinkReader\n",
    "from jaxqtl.io.pheno import PheBedReader\n",
    "from jaxqtl.io.readfile import read_data\n",
    "from jaxqtl.map import map_cis, map_cis_nominal\n",
    "from jaxqtl.infer.permutation import BetaPerm, DirectPerm, Permutation\n",
    "\n",
    "config.update(\"jax_enable_x64\", True)"
   ]
  },
  {
   "cell_type": "markdown",
   "id": "f7bf395b-7651-49bc-afd9-47eed4f24e5f",
   "metadata": {},
   "source": [
    "### Read data"
   ]
  },
  {
   "cell_type": "code",
   "execution_count": 2,
   "id": "05d9f503-b2d9-4b15-8ebf-b93ac6b16245",
   "metadata": {},
   "outputs": [],
   "source": [
    "geno_path = \"../example/data/chr22.bed\"\n",
    "covar_path = \"../example/data/donor_features.tsv\"\n",
    "pheno_path = \"../example/data/CD14_positive_monocyte.bed.gz\""
   ]
  },
  {
   "cell_type": "code",
   "execution_count": 3,
   "id": "5a9da72e-d647-444c-8ebf-c34b95bc8e64",
   "metadata": {},
   "outputs": [],
   "source": [
    "# read raw data under one data class\n",
    "dat = read_data(\n",
    "    geno_path,\n",
    "    pheno_path,\n",
    "    covar_path,\n",
    "    geno_reader=PlinkReader(),\n",
    "    pheno_reader=PheBedReader(),\n",
    ")\n",
    "# dat contains: dat.geno, dat.bim, dat.pheno, dat.pheno_meta, dat.covar"
   ]
  },
  {
   "cell_type": "markdown",
   "id": "d1d438c8-018d-416c-831b-66e1991cf276",
   "metadata": {},
   "source": [
    "### Cis Mapping (Report lead eQTL for each gene)"
   ]
  },
  {
   "cell_type": "code",
   "execution_count": 4,
   "id": "ffc480f2-55a4-468a-bb80-1b22685e9c3a",
   "metadata": {},
   "outputs": [],
   "source": [
    "# cis-mapping for chr22 alone\n",
    "dat.filter_geno(\"22\")"
   ]
  },
  {
   "cell_type": "code",
   "execution_count": 5,
   "id": "c8c9e142-534a-4ed5-80de-dcf495d9200b",
   "metadata": {},
   "outputs": [
    {
     "name": "stdout",
     "output_type": "stream",
     "text": [
      "(94, 143083)\n",
      "(143083, 7)\n",
      "(200, 4)\n",
      "<StringArray>\n",
      "['22']\n",
      "Length: 1, dtype: string\n"
     ]
    }
   ],
   "source": [
    "print(dat.geno.shape) # total 143083 variants\n",
    "print(dat.bim.shape)\n",
    "print(dat.pheno_meta.gene_map.shape) # 200 genes\n",
    "print(dat.bim.chrom.unique())"
   ]
  },
  {
   "cell_type": "code",
   "execution_count": 11,
   "id": "4e5338d9-fd31-4698-9478-fc6356c194ab",
   "metadata": {},
   "outputs": [],
   "source": [
    "# Default is fitting poisson model and report nominal and adjusted p value using beta distribution method\n",
    "# for unit testing, run cis-mapping for the first two genes\n",
    "mapcis_df = map_cis(dat, family=Poisson(), perm=BetaPerm())"
   ]
  },
  {
   "cell_type": "code",
   "execution_count": 12,
   "id": "0bc90b3e-0772-41b7-a960-feb94b4ee6b9",
   "metadata": {},
   "outputs": [
    {
     "data": {
      "text/html": [
       "<div>\n",
       "<style scoped>\n",
       "    .dataframe tbody tr th:only-of-type {\n",
       "        vertical-align: middle;\n",
       "    }\n",
       "\n",
       "    .dataframe tbody tr th {\n",
       "        vertical-align: top;\n",
       "    }\n",
       "\n",
       "    .dataframe thead th {\n",
       "        text-align: right;\n",
       "    }\n",
       "</style>\n",
       "<table border=\"1\" class=\"dataframe\">\n",
       "  <thead>\n",
       "    <tr style=\"text-align: right;\">\n",
       "      <th></th>\n",
       "      <th>phenotype_id</th>\n",
       "      <th>chrom</th>\n",
       "      <th>num_var</th>\n",
       "      <th>variant_id</th>\n",
       "      <th>tss_distance</th>\n",
       "      <th>beta_shape1</th>\n",
       "      <th>beta_shape2</th>\n",
       "      <th>beta_converged</th>\n",
       "      <th>ma_samples</th>\n",
       "      <th>ma_count</th>\n",
       "      <th>af</th>\n",
       "      <th>pval_nominal</th>\n",
       "      <th>slope</th>\n",
       "      <th>slope_se</th>\n",
       "      <th>pval_perm</th>\n",
       "      <th>pval_beta</th>\n",
       "    </tr>\n",
       "  </thead>\n",
       "  <tbody>\n",
       "    <tr>\n",
       "      <th>0</th>\n",
       "      <td>ENSG00000177663</td>\n",
       "      <td>22</td>\n",
       "      <td>2592</td>\n",
       "      <td>22:17691970</td>\n",
       "      <td>126126</td>\n",
       "      <td>nan</td>\n",
       "      <td>nan</td>\n",
       "      <td>0.0</td>\n",
       "      <td>2</td>\n",
       "      <td>2.0</td>\n",
       "      <td>0.9893617021276595</td>\n",
       "      <td>3.8775917047978116e-173</td>\n",
       "      <td>-1.2973851423755893</td>\n",
       "      <td>0.04625084554516128</td>\n",
       "      <td>0.047619047619047616</td>\n",
       "      <td>nan</td>\n",
       "    </tr>\n",
       "    <tr>\n",
       "      <th>1</th>\n",
       "      <td>ENSG00000069998</td>\n",
       "      <td>22</td>\n",
       "      <td>2862</td>\n",
       "      <td>22:17421074</td>\n",
       "      <td>-225103</td>\n",
       "      <td>0.06909060255458319</td>\n",
       "      <td>0.6145193813457284</td>\n",
       "      <td>1.0</td>\n",
       "      <td>1</td>\n",
       "      <td>1.0</td>\n",
       "      <td>0.9946808510638298</td>\n",
       "      <td>1.3242188329672266e-81</td>\n",
       "      <td>-2.2796453775701186</td>\n",
       "      <td>0.1191431479826054</td>\n",
       "      <td>0.047619047619047616</td>\n",
       "      <td>2.4350139383452294e-06</td>\n",
       "    </tr>\n",
       "  </tbody>\n",
       "</table>\n",
       "</div>"
      ],
      "text/plain": [
       "      phenotype_id chrom  num_var   variant_id  tss_distance  \\\n",
       "0  ENSG00000177663    22     2592  22:17691970        126126   \n",
       "1  ENSG00000069998    22     2862  22:17421074       -225103   \n",
       "\n",
       "           beta_shape1         beta_shape2 beta_converged ma_samples ma_count  \\\n",
       "0                  nan                 nan            0.0          2      2.0   \n",
       "1  0.06909060255458319  0.6145193813457284            1.0          1      1.0   \n",
       "\n",
       "                   af             pval_nominal                slope  \\\n",
       "0  0.9893617021276595  3.8775917047978116e-173  -1.2973851423755893   \n",
       "1  0.9946808510638298   1.3242188329672266e-81  -2.2796453775701186   \n",
       "\n",
       "              slope_se             pval_perm               pval_beta  \n",
       "0  0.04625084554516128  0.047619047619047616                     nan  \n",
       "1   0.1191431479826054  0.047619047619047616  2.4350139383452294e-06  "
      ]
     },
     "execution_count": 12,
     "metadata": {},
     "output_type": "execute_result"
    }
   ],
   "source": [
    "mapcis_df.head()"
   ]
  },
  {
   "cell_type": "markdown",
   "id": "ee388dac-6e4f-4b5a-85f6-377740438cfe",
   "metadata": {
    "tags": []
   },
   "source": [
    "### Cis Mapping (Report all cis association statistics)"
   ]
  },
  {
   "cell_type": "code",
   "execution_count": 9,
   "id": "88535d6b-c396-4478-a0fe-1ec99cc54be4",
   "metadata": {},
   "outputs": [
    {
     "name": "stderr",
     "output_type": "stream",
     "text": [
      "/Users/zixuanzhang/Dropbox/PhD_Projects/Nick/jaxqtl/src/jaxqtl/map.py:340: SettingWithCopyWarning: \n",
      "A value is trying to be set on a copy of a slice from a DataFrame\n",
      "\n",
      "See the caveats in the documentation: https://pandas.pydata.org/pandas-docs/stable/user_guide/indexing.html#returning-a-view-versus-a-copy\n",
      "  outdf['af'][start_row:end_row] = af[idx]\n",
      "/Users/zixuanzhang/Dropbox/PhD_Projects/Nick/jaxqtl/src/jaxqtl/map.py:341: SettingWithCopyWarning: \n",
      "A value is trying to be set on a copy of a slice from a DataFrame\n",
      "\n",
      "See the caveats in the documentation: https://pandas.pydata.org/pandas-docs/stable/user_guide/indexing.html#returning-a-view-versus-a-copy\n",
      "  outdf['ma_samples'][start_row:end_row] = ma_samples[idx]\n",
      "/Users/zixuanzhang/Dropbox/PhD_Projects/Nick/jaxqtl/src/jaxqtl/map.py:342: SettingWithCopyWarning: \n",
      "A value is trying to be set on a copy of a slice from a DataFrame\n",
      "\n",
      "See the caveats in the documentation: https://pandas.pydata.org/pandas-docs/stable/user_guide/indexing.html#returning-a-view-versus-a-copy\n",
      "  outdf['ma_count'][start_row:end_row] = ma_count[idx]\n",
      "/Users/zixuanzhang/Dropbox/PhD_Projects/Nick/jaxqtl/src/jaxqtl/map.py:343: SettingWithCopyWarning: \n",
      "A value is trying to be set on a copy of a slice from a DataFrame\n",
      "\n",
      "See the caveats in the documentation: https://pandas.pydata.org/pandas-docs/stable/user_guide/indexing.html#returning-a-view-versus-a-copy\n",
      "  outdf[\"pval_nominal\"][start_row:end_row] = nominal_p[idx]\n",
      "/Users/zixuanzhang/Dropbox/PhD_Projects/Nick/jaxqtl/src/jaxqtl/map.py:344: SettingWithCopyWarning: \n",
      "A value is trying to be set on a copy of a slice from a DataFrame\n",
      "\n",
      "See the caveats in the documentation: https://pandas.pydata.org/pandas-docs/stable/user_guide/indexing.html#returning-a-view-versus-a-copy\n",
      "  outdf[\"slope\"][start_row:end_row] = slope[idx]\n",
      "/Users/zixuanzhang/Dropbox/PhD_Projects/Nick/jaxqtl/src/jaxqtl/map.py:345: SettingWithCopyWarning: \n",
      "A value is trying to be set on a copy of a slice from a DataFrame\n",
      "\n",
      "See the caveats in the documentation: https://pandas.pydata.org/pandas-docs/stable/user_guide/indexing.html#returning-a-view-versus-a-copy\n",
      "  outdf[\"slope_se\"][start_row:end_row] = slope_se[idx]\n",
      "/Users/zixuanzhang/Dropbox/PhD_Projects/Nick/jaxqtl/src/jaxqtl/map.py:346: SettingWithCopyWarning: \n",
      "A value is trying to be set on a copy of a slice from a DataFrame\n",
      "\n",
      "See the caveats in the documentation: https://pandas.pydata.org/pandas-docs/stable/user_guide/indexing.html#returning-a-view-versus-a-copy\n",
      "  outdf['converged'][start_row:end_row] = converged[idx]\n"
     ]
    }
   ],
   "source": [
    "prefix = \"dat_n94\"\n",
    "out_dir = \"../example/result\"\n",
    "\n",
    "map_cis_nominal(dat, family=Poisson(), out_dir=out_dir, prefix=prefix)"
   ]
  },
  {
   "cell_type": "code",
   "execution_count": 10,
   "id": "7d4b26c5-874d-40a8-97e5-2219f274ae39",
   "metadata": {},
   "outputs": [
    {
     "data": {
      "text/html": [
       "<div>\n",
       "<style scoped>\n",
       "    .dataframe tbody tr th:only-of-type {\n",
       "        vertical-align: middle;\n",
       "    }\n",
       "\n",
       "    .dataframe tbody tr th {\n",
       "        vertical-align: top;\n",
       "    }\n",
       "\n",
       "    .dataframe thead th {\n",
       "        text-align: right;\n",
       "    }\n",
       "</style>\n",
       "<table border=\"1\" class=\"dataframe\">\n",
       "  <thead>\n",
       "    <tr style=\"text-align: right;\">\n",
       "      <th></th>\n",
       "      <th>chrom</th>\n",
       "      <th>snp</th>\n",
       "      <th>pos</th>\n",
       "      <th>i</th>\n",
       "      <th>phenotype_id</th>\n",
       "      <th>tss_distance</th>\n",
       "      <th>af</th>\n",
       "      <th>ma_samples</th>\n",
       "      <th>ma_count</th>\n",
       "      <th>pval_nominal</th>\n",
       "      <th>slope</th>\n",
       "      <th>slope_se</th>\n",
       "      <th>converged</th>\n",
       "    </tr>\n",
       "  </thead>\n",
       "  <tbody>\n",
       "    <tr>\n",
       "      <th>0</th>\n",
       "      <td>22</td>\n",
       "      <td>22:17066020</td>\n",
       "      <td>17066020</td>\n",
       "      <td>62</td>\n",
       "      <td>ENSG00000177663</td>\n",
       "      <td>-499824</td>\n",
       "      <td>0.984043</td>\n",
       "      <td>3.0</td>\n",
       "      <td>3.0</td>\n",
       "      <td>6.770875e-30</td>\n",
       "      <td>1.861333</td>\n",
       "      <td>0.163879</td>\n",
       "      <td>True</td>\n",
       "    </tr>\n",
       "    <tr>\n",
       "      <th>1</th>\n",
       "      <td>22</td>\n",
       "      <td>22:17066700</td>\n",
       "      <td>17066700</td>\n",
       "      <td>63</td>\n",
       "      <td>ENSG00000177663</td>\n",
       "      <td>-499144</td>\n",
       "      <td>0.760638</td>\n",
       "      <td>40.0</td>\n",
       "      <td>45.0</td>\n",
       "      <td>1.012771e-02</td>\n",
       "      <td>-0.050836</td>\n",
       "      <td>0.019769</td>\n",
       "      <td>True</td>\n",
       "    </tr>\n",
       "    <tr>\n",
       "      <th>2</th>\n",
       "      <td>22</td>\n",
       "      <td>22:17067504</td>\n",
       "      <td>17067504</td>\n",
       "      <td>64</td>\n",
       "      <td>ENSG00000177663</td>\n",
       "      <td>-498340</td>\n",
       "      <td>0.313830</td>\n",
       "      <td>51.0</td>\n",
       "      <td>59.0</td>\n",
       "      <td>2.865608e-02</td>\n",
       "      <td>-0.041832</td>\n",
       "      <td>0.019117</td>\n",
       "      <td>True</td>\n",
       "    </tr>\n",
       "    <tr>\n",
       "      <th>3</th>\n",
       "      <td>22</td>\n",
       "      <td>22:17068400</td>\n",
       "      <td>17068400</td>\n",
       "      <td>65</td>\n",
       "      <td>ENSG00000177663</td>\n",
       "      <td>-497444</td>\n",
       "      <td>0.117021</td>\n",
       "      <td>21.0</td>\n",
       "      <td>22.0</td>\n",
       "      <td>3.782973e-08</td>\n",
       "      <td>0.137724</td>\n",
       "      <td>0.025038</td>\n",
       "      <td>True</td>\n",
       "    </tr>\n",
       "    <tr>\n",
       "      <th>4</th>\n",
       "      <td>22</td>\n",
       "      <td>22:17069064</td>\n",
       "      <td>17069064</td>\n",
       "      <td>66</td>\n",
       "      <td>ENSG00000177663</td>\n",
       "      <td>-496780</td>\n",
       "      <td>0.111702</td>\n",
       "      <td>21.0</td>\n",
       "      <td>21.0</td>\n",
       "      <td>2.886101e-07</td>\n",
       "      <td>0.139704</td>\n",
       "      <td>0.027229</td>\n",
       "      <td>True</td>\n",
       "    </tr>\n",
       "  </tbody>\n",
       "</table>\n",
       "</div>"
      ],
      "text/plain": [
       "  chrom          snp       pos   i     phenotype_id  tss_distance        af  \\\n",
       "0    22  22:17066020  17066020  62  ENSG00000177663       -499824  0.984043   \n",
       "1    22  22:17066700  17066700  63  ENSG00000177663       -499144  0.760638   \n",
       "2    22  22:17067504  17067504  64  ENSG00000177663       -498340  0.313830   \n",
       "3    22  22:17068400  17068400  65  ENSG00000177663       -497444  0.117021   \n",
       "4    22  22:17069064  17069064  66  ENSG00000177663       -496780  0.111702   \n",
       "\n",
       "   ma_samples  ma_count  pval_nominal     slope  slope_se  converged  \n",
       "0         3.0       3.0  6.770875e-30  1.861333  0.163879       True  \n",
       "1        40.0      45.0  1.012771e-02 -0.050836  0.019769       True  \n",
       "2        51.0      59.0  2.865608e-02 -0.041832  0.019117       True  \n",
       "3        21.0      22.0  3.782973e-08  0.137724  0.025038       True  \n",
       "4        21.0      21.0  2.886101e-07  0.139704  0.027229       True  "
      ]
     },
     "execution_count": 10,
     "metadata": {},
     "output_type": "execute_result"
    }
   ],
   "source": [
    "# load result\n",
    "pairs_df = pd.read_parquet(os.path.join(out_dir, f'{prefix}.cis_qtl_pairs.22.parquet'))\n",
    "pairs_df.head()"
   ]
  }
 ],
 "metadata": {
  "kernelspec": {
   "display_name": "Python 3 (ipykernel)",
   "language": "python",
   "name": "python3"
  },
  "language_info": {
   "codemirror_mode": {
    "name": "ipython",
    "version": 3
   },
   "file_extension": ".py",
   "mimetype": "text/x-python",
   "name": "python",
   "nbconvert_exporter": "python",
   "pygments_lexer": "ipython3",
   "version": "3.10.10"
  }
 },
 "nbformat": 4,
 "nbformat_minor": 5
}
