{
 "cells": [
  {
   "cell_type": "markdown",
   "id": "ce412e60-d13f-47cb-b938-632a2f36d43d",
   "metadata": {},
   "source": [
    "# eQTL mapping example for n=94"
   ]
  },
  {
   "cell_type": "code",
   "execution_count": 1,
   "id": "3bce7902-ba74-4a07-ab5e-9c57345baff3",
   "metadata": {
    "tags": []
   },
   "outputs": [
    {
     "name": "stderr",
     "output_type": "stream",
     "text": [
      "OMP: Info #276: omp_set_nested routine deprecated, please use omp_set_max_active_levels instead.\n"
     ]
    }
   ],
   "source": [
    "import pandas as pd\n",
    "import os\n",
    "\n",
    "from jax.config import config\n",
    "\n",
    "from jaxqtl.families.distribution import Poisson\n",
    "from jaxqtl.io.geno import PlinkReader\n",
    "from jaxqtl.io.pheno import PheBedReader\n",
    "from jaxqtl.io.readfile import read_data\n",
    "from jaxqtl.map import map_cis, map_cis_nominal\n",
    "from jaxqtl.infer.permutation import BetaPerm, DirectPerm, Permutation\n",
    "\n",
    "config.update(\"jax_enable_x64\", True)"
   ]
  },
  {
   "cell_type": "markdown",
   "id": "f7bf395b-7651-49bc-afd9-47eed4f24e5f",
   "metadata": {},
   "source": [
    "### Read data"
   ]
  },
  {
   "cell_type": "code",
   "execution_count": 2,
   "id": "05d9f503-b2d9-4b15-8ebf-b93ac6b16245",
   "metadata": {
    "tags": []
   },
   "outputs": [],
   "source": [
    "geno_path = \"../example/data/chr22.n94.bed\"\n",
    "covar_path = \"../example/data/donor_features.n94.tsv\"\n",
    "pheno_path = \"../example/data/CD14_positive_monocyte.n94.bed.gz\""
   ]
  },
  {
   "cell_type": "code",
   "execution_count": 3,
   "id": "5a9da72e-d647-444c-8ebf-c34b95bc8e64",
   "metadata": {
    "tags": []
   },
   "outputs": [
    {
     "name": "stderr",
     "output_type": "stream",
     "text": [
      "/Users/zixuanzhang/Dropbox/PhD_Projects/Nick/jaxqtl/src/jaxqtl/io/geno.py:38: SettingWithCopyWarning: \n",
      "A value is trying to be set on a copy of a slice from a DataFrame.\n",
      "Try using .loc[row_indexer,col_indexer] = value instead\n",
      "\n",
      "See the caveats in the documentation: https://pandas.pydata.org/pandas-docs/stable/user_guide/indexing.html#returning-a-view-versus-a-copy\n",
      "  bim.i = np.arange(0, len(bim))  # reset index i after variant filtering\n"
     ]
    }
   ],
   "source": [
    "# read raw data under one data class\n",
    "dat = read_data(\n",
    "    geno_path,\n",
    "    pheno_path,\n",
    "    covar_path,\n",
    "    geno_reader=PlinkReader(),\n",
    "    pheno_reader=PheBedReader(),\n",
    ")\n",
    "# dat contains: dat.geno, dat.bim, dat.pheno, dat.pheno_meta, dat.covar"
   ]
  },
  {
   "cell_type": "markdown",
   "id": "d1d438c8-018d-416c-831b-66e1991cf276",
   "metadata": {},
   "source": [
    "### Cis Mapping (Report lead eQTL for each gene)"
   ]
  },
  {
   "cell_type": "code",
   "execution_count": 4,
   "id": "ffc480f2-55a4-468a-bb80-1b22685e9c3a",
   "metadata": {
    "tags": []
   },
   "outputs": [],
   "source": [
    "# cis-mapping for chr22 alone\n",
    "dat.filter_geno(\"22\")"
   ]
  },
  {
   "cell_type": "code",
   "execution_count": 5,
   "id": "c8c9e142-534a-4ed5-80de-dcf495d9200b",
   "metadata": {
    "tags": []
   },
   "outputs": [
    {
     "name": "stdout",
     "output_type": "stream",
     "text": [
      "(94, 110107)\n",
      "(110107, 7)\n",
      "(200, 4)\n",
      "<StringArray>\n",
      "['22']\n",
      "Length: 1, dtype: string\n"
     ]
    }
   ],
   "source": [
    "print(dat.geno.shape) # total 143083 variants\n",
    "print(dat.bim.shape)\n",
    "print(dat.pheno_meta.gene_map.shape) # 200 genes\n",
    "print(dat.bim.chrom.unique())"
   ]
  },
  {
   "cell_type": "code",
   "execution_count": 6,
   "id": "4e5338d9-fd31-4698-9478-fc6356c194ab",
   "metadata": {
    "tags": []
   },
   "outputs": [],
   "source": [
    "# Default is fitting poisson model and report nominal and adjusted p value using beta distribution method\n",
    "# for unit testing, run cis-mapping for the first two genes\n",
    "mapcis_df = map_cis(dat, family=Poisson(), perm=BetaPerm())"
   ]
  },
  {
   "cell_type": "code",
   "execution_count": 8,
   "id": "0bc90b3e-0772-41b7-a960-feb94b4ee6b9",
   "metadata": {
    "tags": []
   },
   "outputs": [
    {
     "data": {
      "text/html": [
       "<div>\n",
       "<style scoped>\n",
       "    .dataframe tbody tr th:only-of-type {\n",
       "        vertical-align: middle;\n",
       "    }\n",
       "\n",
       "    .dataframe tbody tr th {\n",
       "        vertical-align: top;\n",
       "    }\n",
       "\n",
       "    .dataframe thead th {\n",
       "        text-align: right;\n",
       "    }\n",
       "</style>\n",
       "<table border=\"1\" class=\"dataframe\">\n",
       "  <thead>\n",
       "    <tr style=\"text-align: right;\">\n",
       "      <th></th>\n",
       "      <th>phenotype_id</th>\n",
       "      <th>chrom</th>\n",
       "      <th>num_var</th>\n",
       "      <th>variant_id</th>\n",
       "      <th>tss_distance</th>\n",
       "      <th>beta_shape1</th>\n",
       "      <th>beta_shape2</th>\n",
       "      <th>beta_converged</th>\n",
       "      <th>ma_samples</th>\n",
       "      <th>ma_count</th>\n",
       "      <th>af</th>\n",
       "      <th>pval_nominal</th>\n",
       "      <th>slope</th>\n",
       "      <th>slope_se</th>\n",
       "      <th>pval_perm</th>\n",
       "      <th>pval_beta</th>\n",
       "    </tr>\n",
       "  </thead>\n",
       "  <tbody>\n",
       "    <tr>\n",
       "      <th>0</th>\n",
       "      <td>ENSG00000177663</td>\n",
       "      <td>22</td>\n",
       "      <td>2592</td>\n",
       "      <td>22:17691970</td>\n",
       "      <td>126126</td>\n",
       "      <td>0.040742</td>\n",
       "      <td>0.497352</td>\n",
       "      <td>1.0</td>\n",
       "      <td>2</td>\n",
       "      <td>2.0</td>\n",
       "      <td>0.989362</td>\n",
       "      <td>3.877592e-173</td>\n",
       "      <td>-1.297385</td>\n",
       "      <td>0.046251</td>\n",
       "      <td>0.047619</td>\n",
       "      <td>8.954551e-08</td>\n",
       "    </tr>\n",
       "    <tr>\n",
       "      <th>1</th>\n",
       "      <td>ENSG00000069998</td>\n",
       "      <td>22</td>\n",
       "      <td>2862</td>\n",
       "      <td>22:17421074</td>\n",
       "      <td>-225103</td>\n",
       "      <td>0.069091</td>\n",
       "      <td>0.614519</td>\n",
       "      <td>1.0</td>\n",
       "      <td>1</td>\n",
       "      <td>1.0</td>\n",
       "      <td>0.994681</td>\n",
       "      <td>1.324219e-81</td>\n",
       "      <td>-2.279645</td>\n",
       "      <td>0.119143</td>\n",
       "      <td>0.047619</td>\n",
       "      <td>2.435014e-06</td>\n",
       "    </tr>\n",
       "    <tr>\n",
       "      <th>2</th>\n",
       "      <td>ENSG00000093072</td>\n",
       "      <td>22</td>\n",
       "      <td>3015</td>\n",
       "      <td>22:17727109</td>\n",
       "      <td>24230</td>\n",
       "      <td>0.031543</td>\n",
       "      <td>0.499450</td>\n",
       "      <td>1.0</td>\n",
       "      <td>2</td>\n",
       "      <td>2.0</td>\n",
       "      <td>0.989362</td>\n",
       "      <td>3.242495e-217</td>\n",
       "      <td>-1.254458</td>\n",
       "      <td>0.039877</td>\n",
       "      <td>0.047619</td>\n",
       "      <td>1.422406e-07</td>\n",
       "    </tr>\n",
       "    <tr>\n",
       "      <th>3</th>\n",
       "      <td>ENSG00000131100</td>\n",
       "      <td>22</td>\n",
       "      <td>3589</td>\n",
       "      <td>22:18525678</td>\n",
       "      <td>414094</td>\n",
       "      <td>0.039619</td>\n",
       "      <td>0.449719</td>\n",
       "      <td>1.0</td>\n",
       "      <td>1</td>\n",
       "      <td>1.0</td>\n",
       "      <td>0.994681</td>\n",
       "      <td>8.214258e-262</td>\n",
       "      <td>-1.972621</td>\n",
       "      <td>0.057068</td>\n",
       "      <td>0.047619</td>\n",
       "      <td>4.254163e-11</td>\n",
       "    </tr>\n",
       "    <tr>\n",
       "      <th>4</th>\n",
       "      <td>ENSG00000099968</td>\n",
       "      <td>22</td>\n",
       "      <td>3590</td>\n",
       "      <td>22:17641685</td>\n",
       "      <td>-469936</td>\n",
       "      <td>0.066140</td>\n",
       "      <td>0.605555</td>\n",
       "      <td>1.0</td>\n",
       "      <td>26</td>\n",
       "      <td>26.0</td>\n",
       "      <td>0.861702</td>\n",
       "      <td>9.615735e-53</td>\n",
       "      <td>-0.644316</td>\n",
       "      <td>0.042153</td>\n",
       "      <td>0.095238</td>\n",
       "      <td>3.421288e-04</td>\n",
       "    </tr>\n",
       "    <tr>\n",
       "      <th>5</th>\n",
       "      <td>ENSG00000015475</td>\n",
       "      <td>22</td>\n",
       "      <td>3191</td>\n",
       "      <td>22:18043325</td>\n",
       "      <td>-214211</td>\n",
       "      <td>0.053913</td>\n",
       "      <td>0.570602</td>\n",
       "      <td>1.0</td>\n",
       "      <td>1</td>\n",
       "      <td>1.0</td>\n",
       "      <td>0.994681</td>\n",
       "      <td>5.520372e-81</td>\n",
       "      <td>-1.074243</td>\n",
       "      <td>0.056364</td>\n",
       "      <td>0.047619</td>\n",
       "      <td>4.459175e-05</td>\n",
       "    </tr>\n",
       "    <tr>\n",
       "      <th>6</th>\n",
       "      <td>ENSG00000269220</td>\n",
       "      <td>22</td>\n",
       "      <td>3190</td>\n",
       "      <td>22:18062511</td>\n",
       "      <td>-197577</td>\n",
       "      <td>0.067876</td>\n",
       "      <td>0.653734</td>\n",
       "      <td>1.0</td>\n",
       "      <td>5</td>\n",
       "      <td>5.0</td>\n",
       "      <td>0.973404</td>\n",
       "      <td>4.326579e-110</td>\n",
       "      <td>-1.673545</td>\n",
       "      <td>0.075071</td>\n",
       "      <td>0.047619</td>\n",
       "      <td>3.590449e-08</td>\n",
       "    </tr>\n",
       "    <tr>\n",
       "      <th>7</th>\n",
       "      <td>ENSG00000070413</td>\n",
       "      <td>22</td>\n",
       "      <td>2647</td>\n",
       "      <td>22:19277323</td>\n",
       "      <td>167356</td>\n",
       "      <td>0.082370</td>\n",
       "      <td>0.730972</td>\n",
       "      <td>1.0</td>\n",
       "      <td>3</td>\n",
       "      <td>3.0</td>\n",
       "      <td>0.984043</td>\n",
       "      <td>3.098387e-77</td>\n",
       "      <td>-1.596112</td>\n",
       "      <td>0.085804</td>\n",
       "      <td>0.047619</td>\n",
       "      <td>4.779396e-07</td>\n",
       "    </tr>\n",
       "    <tr>\n",
       "      <th>8</th>\n",
       "      <td>ENSG00000100075</td>\n",
       "      <td>22</td>\n",
       "      <td>2782</td>\n",
       "      <td>22:19590231</td>\n",
       "      <td>423888</td>\n",
       "      <td>0.100799</td>\n",
       "      <td>0.613220</td>\n",
       "      <td>1.0</td>\n",
       "      <td>3</td>\n",
       "      <td>4.0</td>\n",
       "      <td>0.978723</td>\n",
       "      <td>7.797988e-49</td>\n",
       "      <td>-0.791540</td>\n",
       "      <td>0.053894</td>\n",
       "      <td>0.047619</td>\n",
       "      <td>1.301153e-05</td>\n",
       "    </tr>\n",
       "    <tr>\n",
       "      <th>9</th>\n",
       "      <td>ENSG00000185608</td>\n",
       "      <td>22</td>\n",
       "      <td>3437</td>\n",
       "      <td>22:19660536</td>\n",
       "      <td>241111</td>\n",
       "      <td>0.052069</td>\n",
       "      <td>0.586835</td>\n",
       "      <td>1.0</td>\n",
       "      <td>1</td>\n",
       "      <td>1.0</td>\n",
       "      <td>0.994681</td>\n",
       "      <td>1.233950e-203</td>\n",
       "      <td>-2.100170</td>\n",
       "      <td>0.068973</td>\n",
       "      <td>0.047619</td>\n",
       "      <td>2.588962e-11</td>\n",
       "    </tr>\n",
       "  </tbody>\n",
       "</table>\n",
       "</div>"
      ],
      "text/plain": [
       "      phenotype_id chrom  num_var   variant_id  tss_distance  beta_shape1   \n",
       "0  ENSG00000177663    22     2592  22:17691970        126126     0.040742  \\\n",
       "1  ENSG00000069998    22     2862  22:17421074       -225103     0.069091   \n",
       "2  ENSG00000093072    22     3015  22:17727109         24230     0.031543   \n",
       "3  ENSG00000131100    22     3589  22:18525678        414094     0.039619   \n",
       "4  ENSG00000099968    22     3590  22:17641685       -469936     0.066140   \n",
       "5  ENSG00000015475    22     3191  22:18043325       -214211     0.053913   \n",
       "6  ENSG00000269220    22     3190  22:18062511       -197577     0.067876   \n",
       "7  ENSG00000070413    22     2647  22:19277323        167356     0.082370   \n",
       "8  ENSG00000100075    22     2782  22:19590231        423888     0.100799   \n",
       "9  ENSG00000185608    22     3437  22:19660536        241111     0.052069   \n",
       "\n",
       "   beta_shape2  beta_converged  ma_samples  ma_count        af   pval_nominal   \n",
       "0     0.497352             1.0           2       2.0  0.989362  3.877592e-173  \\\n",
       "1     0.614519             1.0           1       1.0  0.994681   1.324219e-81   \n",
       "2     0.499450             1.0           2       2.0  0.989362  3.242495e-217   \n",
       "3     0.449719             1.0           1       1.0  0.994681  8.214258e-262   \n",
       "4     0.605555             1.0          26      26.0  0.861702   9.615735e-53   \n",
       "5     0.570602             1.0           1       1.0  0.994681   5.520372e-81   \n",
       "6     0.653734             1.0           5       5.0  0.973404  4.326579e-110   \n",
       "7     0.730972             1.0           3       3.0  0.984043   3.098387e-77   \n",
       "8     0.613220             1.0           3       4.0  0.978723   7.797988e-49   \n",
       "9     0.586835             1.0           1       1.0  0.994681  1.233950e-203   \n",
       "\n",
       "      slope  slope_se  pval_perm     pval_beta  \n",
       "0 -1.297385  0.046251   0.047619  8.954551e-08  \n",
       "1 -2.279645  0.119143   0.047619  2.435014e-06  \n",
       "2 -1.254458  0.039877   0.047619  1.422406e-07  \n",
       "3 -1.972621  0.057068   0.047619  4.254163e-11  \n",
       "4 -0.644316  0.042153   0.095238  3.421288e-04  \n",
       "5 -1.074243  0.056364   0.047619  4.459175e-05  \n",
       "6 -1.673545  0.075071   0.047619  3.590449e-08  \n",
       "7 -1.596112  0.085804   0.047619  4.779396e-07  \n",
       "8 -0.791540  0.053894   0.047619  1.301153e-05  \n",
       "9 -2.100170  0.068973   0.047619  2.588962e-11  "
      ]
     },
     "execution_count": 8,
     "metadata": {},
     "output_type": "execute_result"
    }
   ],
   "source": [
    "mapcis_df"
   ]
  },
  {
   "cell_type": "code",
   "execution_count": 9,
   "id": "906d86b3-903c-4dc5-81a9-bc49daeecd3a",
   "metadata": {
    "tags": []
   },
   "outputs": [],
   "source": [
    "# calculate q values\n",
    "import rpy2\n",
    "from jaxqtl.post import rfunc"
   ]
  },
  {
   "cell_type": "code",
   "execution_count": 25,
   "id": "f810cf1b-e173-4684-83f7-5ec1bf1c75f7",
   "metadata": {
    "tags": []
   },
   "outputs": [],
   "source": [
    "qvalue_lambda = 0 # BH adjustment, failed to estimate pi0 for 10 genes\n",
    "qval, pi0 = rfunc.qvalue(mapcis_df['pval_beta'], lambda_qvalue=qvalue_lambda)"
   ]
  },
  {
   "cell_type": "code",
   "execution_count": 24,
   "id": "23209588-17b6-479b-a4cf-c5f860e9be2e",
   "metadata": {
    "tags": []
   },
   "outputs": [
    {
     "data": {
      "text/plain": [
       "array([2.23863763e-07, 3.47859118e-06, 2.84481118e-07, 2.12708155e-10,\n",
       "       3.42128803e-04, 4.95463904e-05, 1.19681639e-07, 7.96566040e-07,\n",
       "       1.62644110e-05, 2.12708155e-10])"
      ]
     },
     "execution_count": 24,
     "metadata": {},
     "output_type": "execute_result"
    }
   ],
   "source": [
    "qval"
   ]
  },
  {
   "cell_type": "markdown",
   "id": "ee388dac-6e4f-4b5a-85f6-377740438cfe",
   "metadata": {
    "tags": []
   },
   "source": [
    "### Cis Mapping (Report all cis association statistics)"
   ]
  },
  {
   "cell_type": "code",
   "execution_count": 26,
   "id": "88535d6b-c396-4478-a0fe-1ec99cc54be4",
   "metadata": {
    "tags": []
   },
   "outputs": [
    {
     "name": "stderr",
     "output_type": "stream",
     "text": [
      "/Users/zixuanzhang/Dropbox/PhD_Projects/Nick/jaxqtl/src/jaxqtl/map.py:345: SettingWithCopyWarning: \n",
      "A value is trying to be set on a copy of a slice from a DataFrame\n",
      "\n",
      "See the caveats in the documentation: https://pandas.pydata.org/pandas-docs/stable/user_guide/indexing.html#returning-a-view-versus-a-copy\n",
      "  outdf[\"af\"][start_row:end_row] = af[idx]\n",
      "/Users/zixuanzhang/Dropbox/PhD_Projects/Nick/jaxqtl/src/jaxqtl/map.py:346: SettingWithCopyWarning: \n",
      "A value is trying to be set on a copy of a slice from a DataFrame\n",
      "\n",
      "See the caveats in the documentation: https://pandas.pydata.org/pandas-docs/stable/user_guide/indexing.html#returning-a-view-versus-a-copy\n",
      "  outdf[\"ma_samples\"][start_row:end_row] = ma_samples[idx]\n",
      "/Users/zixuanzhang/Dropbox/PhD_Projects/Nick/jaxqtl/src/jaxqtl/map.py:347: SettingWithCopyWarning: \n",
      "A value is trying to be set on a copy of a slice from a DataFrame\n",
      "\n",
      "See the caveats in the documentation: https://pandas.pydata.org/pandas-docs/stable/user_guide/indexing.html#returning-a-view-versus-a-copy\n",
      "  outdf[\"ma_count\"][start_row:end_row] = ma_count[idx]\n",
      "/Users/zixuanzhang/Dropbox/PhD_Projects/Nick/jaxqtl/src/jaxqtl/map.py:348: SettingWithCopyWarning: \n",
      "A value is trying to be set on a copy of a slice from a DataFrame\n",
      "\n",
      "See the caveats in the documentation: https://pandas.pydata.org/pandas-docs/stable/user_guide/indexing.html#returning-a-view-versus-a-copy\n",
      "  outdf[\"pval_nominal\"][start_row:end_row] = nominal_p[idx]\n",
      "/Users/zixuanzhang/Dropbox/PhD_Projects/Nick/jaxqtl/src/jaxqtl/map.py:349: SettingWithCopyWarning: \n",
      "A value is trying to be set on a copy of a slice from a DataFrame\n",
      "\n",
      "See the caveats in the documentation: https://pandas.pydata.org/pandas-docs/stable/user_guide/indexing.html#returning-a-view-versus-a-copy\n",
      "  outdf[\"slope\"][start_row:end_row] = slope[idx]\n",
      "/Users/zixuanzhang/Dropbox/PhD_Projects/Nick/jaxqtl/src/jaxqtl/map.py:350: SettingWithCopyWarning: \n",
      "A value is trying to be set on a copy of a slice from a DataFrame\n",
      "\n",
      "See the caveats in the documentation: https://pandas.pydata.org/pandas-docs/stable/user_guide/indexing.html#returning-a-view-versus-a-copy\n",
      "  outdf[\"slope_se\"][start_row:end_row] = slope_se[idx]\n",
      "/Users/zixuanzhang/Dropbox/PhD_Projects/Nick/jaxqtl/src/jaxqtl/map.py:351: SettingWithCopyWarning: \n",
      "A value is trying to be set on a copy of a slice from a DataFrame\n",
      "\n",
      "See the caveats in the documentation: https://pandas.pydata.org/pandas-docs/stable/user_guide/indexing.html#returning-a-view-versus-a-copy\n",
      "  outdf[\"converged\"][start_row:end_row] = converged[idx]\n"
     ]
    }
   ],
   "source": [
    "prefix = \"dat_n94\"\n",
    "out_dir = \"../example/result\"\n",
    "\n",
    "map_cis_nominal(dat, family=Poisson(), out_dir=out_dir, prefix=prefix)"
   ]
  },
  {
   "cell_type": "code",
   "execution_count": 27,
   "id": "7d4b26c5-874d-40a8-97e5-2219f274ae39",
   "metadata": {
    "tags": []
   },
   "outputs": [
    {
     "data": {
      "text/html": [
       "<div>\n",
       "<style scoped>\n",
       "    .dataframe tbody tr th:only-of-type {\n",
       "        vertical-align: middle;\n",
       "    }\n",
       "\n",
       "    .dataframe tbody tr th {\n",
       "        vertical-align: top;\n",
       "    }\n",
       "\n",
       "    .dataframe thead th {\n",
       "        text-align: right;\n",
       "    }\n",
       "</style>\n",
       "<table border=\"1\" class=\"dataframe\">\n",
       "  <thead>\n",
       "    <tr style=\"text-align: right;\">\n",
       "      <th></th>\n",
       "      <th>chrom</th>\n",
       "      <th>snp</th>\n",
       "      <th>pos</th>\n",
       "      <th>i</th>\n",
       "      <th>phenotype_id</th>\n",
       "      <th>tss_distance</th>\n",
       "      <th>af</th>\n",
       "      <th>ma_samples</th>\n",
       "      <th>ma_count</th>\n",
       "      <th>pval_nominal</th>\n",
       "      <th>slope</th>\n",
       "      <th>slope_se</th>\n",
       "      <th>converged</th>\n",
       "    </tr>\n",
       "  </thead>\n",
       "  <tbody>\n",
       "    <tr>\n",
       "      <th>0</th>\n",
       "      <td>22</td>\n",
       "      <td>22:17066020</td>\n",
       "      <td>17066020</td>\n",
       "      <td>62</td>\n",
       "      <td>ENSG00000177663</td>\n",
       "      <td>-499824</td>\n",
       "      <td>0.984043</td>\n",
       "      <td>3.0</td>\n",
       "      <td>3.0</td>\n",
       "      <td>1.773196e-25</td>\n",
       "      <td>1.286764</td>\n",
       "      <td>0.123349</td>\n",
       "      <td>True</td>\n",
       "    </tr>\n",
       "    <tr>\n",
       "      <th>1</th>\n",
       "      <td>22</td>\n",
       "      <td>22:17066700</td>\n",
       "      <td>17066700</td>\n",
       "      <td>63</td>\n",
       "      <td>ENSG00000177663</td>\n",
       "      <td>-499144</td>\n",
       "      <td>0.760638</td>\n",
       "      <td>40.0</td>\n",
       "      <td>45.0</td>\n",
       "      <td>1.012771e-02</td>\n",
       "      <td>-0.050836</td>\n",
       "      <td>0.019769</td>\n",
       "      <td>True</td>\n",
       "    </tr>\n",
       "    <tr>\n",
       "      <th>2</th>\n",
       "      <td>22</td>\n",
       "      <td>22:17067504</td>\n",
       "      <td>17067504</td>\n",
       "      <td>64</td>\n",
       "      <td>ENSG00000177663</td>\n",
       "      <td>-498340</td>\n",
       "      <td>0.313830</td>\n",
       "      <td>51.0</td>\n",
       "      <td>59.0</td>\n",
       "      <td>2.865608e-02</td>\n",
       "      <td>-0.041832</td>\n",
       "      <td>0.019117</td>\n",
       "      <td>True</td>\n",
       "    </tr>\n",
       "    <tr>\n",
       "      <th>3</th>\n",
       "      <td>22</td>\n",
       "      <td>22:17068400</td>\n",
       "      <td>17068400</td>\n",
       "      <td>65</td>\n",
       "      <td>ENSG00000177663</td>\n",
       "      <td>-497444</td>\n",
       "      <td>0.117021</td>\n",
       "      <td>21.0</td>\n",
       "      <td>22.0</td>\n",
       "      <td>3.782973e-08</td>\n",
       "      <td>0.137724</td>\n",
       "      <td>0.025038</td>\n",
       "      <td>True</td>\n",
       "    </tr>\n",
       "    <tr>\n",
       "      <th>4</th>\n",
       "      <td>22</td>\n",
       "      <td>22:17069064</td>\n",
       "      <td>17069064</td>\n",
       "      <td>66</td>\n",
       "      <td>ENSG00000177663</td>\n",
       "      <td>-496780</td>\n",
       "      <td>0.111702</td>\n",
       "      <td>21.0</td>\n",
       "      <td>21.0</td>\n",
       "      <td>2.886101e-07</td>\n",
       "      <td>0.139704</td>\n",
       "      <td>0.027229</td>\n",
       "      <td>True</td>\n",
       "    </tr>\n",
       "  </tbody>\n",
       "</table>\n",
       "</div>"
      ],
      "text/plain": [
       "  chrom          snp       pos   i     phenotype_id  tss_distance        af   \n",
       "0    22  22:17066020  17066020  62  ENSG00000177663       -499824  0.984043  \\\n",
       "1    22  22:17066700  17066700  63  ENSG00000177663       -499144  0.760638   \n",
       "2    22  22:17067504  17067504  64  ENSG00000177663       -498340  0.313830   \n",
       "3    22  22:17068400  17068400  65  ENSG00000177663       -497444  0.117021   \n",
       "4    22  22:17069064  17069064  66  ENSG00000177663       -496780  0.111702   \n",
       "\n",
       "   ma_samples  ma_count  pval_nominal     slope  slope_se  converged  \n",
       "0         3.0       3.0  1.773196e-25  1.286764  0.123349       True  \n",
       "1        40.0      45.0  1.012771e-02 -0.050836  0.019769       True  \n",
       "2        51.0      59.0  2.865608e-02 -0.041832  0.019117       True  \n",
       "3        21.0      22.0  3.782973e-08  0.137724  0.025038       True  \n",
       "4        21.0      21.0  2.886101e-07  0.139704  0.027229       True  "
      ]
     },
     "execution_count": 27,
     "metadata": {},
     "output_type": "execute_result"
    }
   ],
   "source": [
    "# load result\n",
    "pairs_df = pd.read_parquet(os.path.join(out_dir, f'{prefix}.cis_qtl_pairs.22.parquet'))\n",
    "pairs_df.head()"
   ]
  }
 ],
 "metadata": {
  "kernelspec": {
   "display_name": "Python 3 (ipykernel)",
   "language": "python",
   "name": "python3"
  },
  "language_info": {
   "codemirror_mode": {
    "name": "ipython",
    "version": 3
   },
   "file_extension": ".py",
   "mimetype": "text/x-python",
   "name": "python",
   "nbconvert_exporter": "python",
   "pygments_lexer": "ipython3",
   "version": "3.10.10"
  }
 },
 "nbformat": 4,
 "nbformat_minor": 5
}
