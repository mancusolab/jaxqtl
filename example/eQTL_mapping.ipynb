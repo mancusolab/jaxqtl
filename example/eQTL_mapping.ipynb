{
 "cells": [
  {
   "cell_type": "markdown",
   "id": "ce412e60-d13f-47cb-b938-632a2f36d43d",
   "metadata": {},
   "source": [
    "eQTL mapping for n=94"
   ]
  },
  {
   "cell_type": "code",
   "execution_count": null,
   "id": "3bce7902-ba74-4a07-ab5e-9c57345baff3",
   "metadata": {},
   "outputs": [],
   "source": [
    "from jax.config import config\n",
    "\n",
    "from jaxqtl.families.distribution import Poisson\n",
    "from jaxqtl.io.geno import PlinkReader\n",
    "from jaxqtl.io.pheno import PheBedReader\n",
    "from jaxqtl.io.readfile import read_data\n",
    "from jaxqtl.map import map_cis,"
   ]
  },
  {
   "cell_type": "code",
   "execution_count": null,
   "id": "ed74c925-800d-4e78-bfe7-51c46d3d338b",
   "metadata": {},
   "outputs": [],
   "source": [
    "config.update(\"jax_enable_x64\", True)"
   ]
  },
  {
   "cell_type": "markdown",
   "id": "f7bf395b-7651-49bc-afd9-47eed4f24e5f",
   "metadata": {},
   "source": [
    "### Read data"
   ]
  },
  {
   "cell_type": "code",
   "execution_count": null,
   "id": "05d9f503-b2d9-4b15-8ebf-b93ac6b16245",
   "metadata": {},
   "outputs": [],
   "source": [
    "geno_path = \"./example/data/chr22.bed\"\n",
    "covar_path = \"./example/data/donor_features.tsv\"\n",
    "pheno_path = \"./example/data/CD14_positive_monocyte.bed.gz\""
   ]
  },
  {
   "cell_type": "code",
   "execution_count": null,
   "id": "5a9da72e-d647-444c-8ebf-c34b95bc8e64",
   "metadata": {},
   "outputs": [],
   "source": [
    "# read raw data under one data class\n",
    "dat = read_data(\n",
    "    geno_path,\n",
    "    pheno_path,\n",
    "    covar_path,\n",
    "    geno_reader=PlinkReader(),\n",
    "    pheno_reader=PheBedReader(),\n",
    ")\n",
    "# dat contains: dat.geno, dat.bim, dat.count, dat.covar"
   ]
  },
  {
   "cell_type": "code",
   "execution_count": null,
   "id": "c7c2c2c2-8354-47e7-89fe-ba4bc989c392",
   "metadata": {},
   "outputs": [],
   "source": [
    "# format data to get ready for mapping\n",
    "dat_CD14 = dat.create_ReadyData()\n",
    "\n",
    "dat_CD14.geno # jnp.ndarray\n",
    "dat_CD14.bim  # pd.DataFrame\n",
    "dat_CD14.pheno # ExpressionData, iterable object\n",
    "dat_CD14.pheno_meta # GeneMetaData, iterable object providing tss location for identifying cis-window\n",
    "dat_CD14.covar # jnp.ndarray"
   ]
  },
  {
   "cell_type": "markdown",
   "id": "d1d438c8-018d-416c-831b-66e1991cf276",
   "metadata": {},
   "source": [
    "### Cis Mapping (Report lead eQTL for each gene)"
   ]
  },
  {
   "cell_type": "code",
   "execution_count": null,
   "id": "4e5338d9-fd31-4698-9478-fc6356c194ab",
   "metadata": {},
   "outputs": [],
   "source": [
    "# Default is fitting poisson model and report nominal and adjusted p value using beta distribution method\n",
    "mapcis_out = map_cis(dat_CD14, family=Poisson(), perm=BetaPerm())\n",
    "print(mapcis_out.effect_beta)"
   ]
  },
  {
   "cell_type": "markdown",
   "id": "ee388dac-6e4f-4b5a-85f6-377740438cfe",
   "metadata": {
    "tags": []
   },
   "source": [
    "### Cis Mapping (Report all cis association statistics)"
   ]
  },
  {
   "cell_type": "code",
   "execution_count": null,
   "id": "88535d6b-c396-4478-a0fe-1ec99cc54be4",
   "metadata": {},
   "outputs": [],
   "source": [
    "mapcis_out = map_cis_nominal(dat_CD14, family=Poisson())\n",
    "print(mapcis_out.effect_beta)"
   ]
  }
 ],
 "metadata": {
  "kernelspec": {
   "display_name": "Python 3 (ipykernel)",
   "language": "python",
   "name": "python3"
  },
  "language_info": {
   "codemirror_mode": {
    "name": "ipython",
    "version": 3
   },
   "file_extension": ".py",
   "mimetype": "text/x-python",
   "name": "python",
   "nbconvert_exporter": "python",
   "pygments_lexer": "ipython3",
   "version": "3.10.9"
  }
 },
 "nbformat": 4,
 "nbformat_minor": 5
}
