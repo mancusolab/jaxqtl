{
 "cells": [
  {
   "cell_type": "markdown",
   "id": "ce412e60-d13f-47cb-b938-632a2f36d43d",
   "metadata": {},
   "source": [
    "eQTL mapping for n=94"
   ]
  },
  {
   "cell_type": "code",
   "execution_count": 2,
   "id": "3bce7902-ba74-4a07-ab5e-9c57345baff3",
   "metadata": {},
   "outputs": [],
   "source": [
    "import pandas as pd\n",
    "import os\n",
    "\n",
    "from jax.config import config\n",
    "\n",
    "from jaxqtl.families.distribution import Poisson\n",
    "from jaxqtl.io.geno import PlinkReader\n",
    "from jaxqtl.io.pheno import PheBedReader\n",
    "from jaxqtl.io.readfile import read_data\n",
    "from jaxqtl.map import map_cis, map_cis_nominal, prepare_cis_output, write_nominal\n",
    "from jaxqtl.infer.permutation import BetaPerm, DirectPerm, Permutation\n",
    "\n",
    "config.update(\"jax_enable_x64\", True)"
   ]
  },
  {
   "cell_type": "markdown",
   "id": "f7bf395b-7651-49bc-afd9-47eed4f24e5f",
   "metadata": {},
   "source": [
    "### Read data"
   ]
  },
  {
   "cell_type": "code",
   "execution_count": 3,
   "id": "05d9f503-b2d9-4b15-8ebf-b93ac6b16245",
   "metadata": {},
   "outputs": [],
   "source": [
    "geno_path = \"../example/data/chr22.bed\"\n",
    "covar_path = \"../example/data/donor_features.tsv\"\n",
    "pheno_path = \"../example/data/CD14_positive_monocyte.bed.gz\""
   ]
  },
  {
   "cell_type": "code",
   "execution_count": 4,
   "id": "5a9da72e-d647-444c-8ebf-c34b95bc8e64",
   "metadata": {},
   "outputs": [],
   "source": [
    "# read raw data under one data class\n",
    "dat = read_data(\n",
    "    geno_path,\n",
    "    pheno_path,\n",
    "    covar_path,\n",
    "    geno_reader=PlinkReader(),\n",
    "    pheno_reader=PheBedReader(),\n",
    ")\n",
    "# dat contains: dat.geno, dat.bim, dat.count, dat.covar"
   ]
  },
  {
   "cell_type": "code",
   "execution_count": 5,
   "id": "c7c2c2c2-8354-47e7-89fe-ba4bc989c392",
   "metadata": {},
   "outputs": [],
   "source": [
    "# format data to get ready for mapping\n",
    "dat_CD14 = dat.create_ReadyData()\n",
    "\n",
    "# dat_CD14.geno # jnp.ndarray\n",
    "# dat_CD14.bim  # pd.DataFrame\n",
    "# dat_CD14.pheno # ExpressionData, iterable object\n",
    "# dat_CD14.pheno_meta # GeneMetaData, iterable object providing tss location for identifying cis-window\n",
    "# dat_CD14.covar # jnp.ndarray"
   ]
  },
  {
   "cell_type": "markdown",
   "id": "d1d438c8-018d-416c-831b-66e1991cf276",
   "metadata": {},
   "source": [
    "### Cis Mapping (Report lead eQTL for each gene)"
   ]
  },
  {
   "cell_type": "code",
   "execution_count": 6,
   "id": "4e5338d9-fd31-4698-9478-fc6356c194ab",
   "metadata": {},
   "outputs": [],
   "source": [
    "# Default is fitting poisson model and report nominal and adjusted p value using beta distribution method\n",
    "# for unit testing, run cis-mapping for the first two genes\n",
    "\n",
    "mapcis_df = map_cis(dat_CD14, family=Poisson(), perm=BetaPerm())"
   ]
  },
  {
   "cell_type": "code",
   "execution_count": 7,
   "id": "a68fd7e8-df88-4ed8-969b-ba51e67c34f6",
   "metadata": {},
   "outputs": [
    {
     "data": {
      "text/plain": "      phenotype_id chrom  num_var  beta_shape1  beta_shape2  \\\n0  ENSG00000177663    22     2592  22:17691970       126126   \n1  ENSG00000069998    22     2862  22:17421074      -225103   \n\n           beta_converged              variant_id tss_distance ma_samples  \\\n0  -1.971780628308735e+41  -5.025092127075507e+45          0.0          2   \n1     0.06909060255458319      0.6145193813457284          1.0          1   \n\n  ma_count                  af             pval_nominal                slope  \\\n0      2.0  0.9893617021276595  3.8775917047978116e-173  -1.2973851423755893   \n1      1.0  0.9946808510638298   1.3242188329672266e-81  -2.2796453775701186   \n\n              slope_se             pval_perm               pval_beta  \n0  0.04625084554516128  0.047619047619047616                     nan  \n1   0.1191431479826054  0.047619047619047616  2.4350139383452294e-06  ",
      "text/html": "<div>\n<style scoped>\n    .dataframe tbody tr th:only-of-type {\n        vertical-align: middle;\n    }\n\n    .dataframe tbody tr th {\n        vertical-align: top;\n    }\n\n    .dataframe thead th {\n        text-align: right;\n    }\n</style>\n<table border=\"1\" class=\"dataframe\">\n  <thead>\n    <tr style=\"text-align: right;\">\n      <th></th>\n      <th>phenotype_id</th>\n      <th>chrom</th>\n      <th>num_var</th>\n      <th>beta_shape1</th>\n      <th>beta_shape2</th>\n      <th>beta_converged</th>\n      <th>variant_id</th>\n      <th>tss_distance</th>\n      <th>ma_samples</th>\n      <th>ma_count</th>\n      <th>af</th>\n      <th>pval_nominal</th>\n      <th>slope</th>\n      <th>slope_se</th>\n      <th>pval_perm</th>\n      <th>pval_beta</th>\n    </tr>\n  </thead>\n  <tbody>\n    <tr>\n      <th>0</th>\n      <td>ENSG00000177663</td>\n      <td>22</td>\n      <td>2592</td>\n      <td>22:17691970</td>\n      <td>126126</td>\n      <td>-1.971780628308735e+41</td>\n      <td>-5.025092127075507e+45</td>\n      <td>0.0</td>\n      <td>2</td>\n      <td>2.0</td>\n      <td>0.9893617021276595</td>\n      <td>3.8775917047978116e-173</td>\n      <td>-1.2973851423755893</td>\n      <td>0.04625084554516128</td>\n      <td>0.047619047619047616</td>\n      <td>nan</td>\n    </tr>\n    <tr>\n      <th>1</th>\n      <td>ENSG00000069998</td>\n      <td>22</td>\n      <td>2862</td>\n      <td>22:17421074</td>\n      <td>-225103</td>\n      <td>0.06909060255458319</td>\n      <td>0.6145193813457284</td>\n      <td>1.0</td>\n      <td>1</td>\n      <td>1.0</td>\n      <td>0.9946808510638298</td>\n      <td>1.3242188329672266e-81</td>\n      <td>-2.2796453775701186</td>\n      <td>0.1191431479826054</td>\n      <td>0.047619047619047616</td>\n      <td>2.4350139383452294e-06</td>\n    </tr>\n  </tbody>\n</table>\n</div>"
     },
     "execution_count": 7,
     "metadata": {},
     "output_type": "execute_result"
    }
   ],
   "source": [
    "mapcis_df.head()"
   ]
  },
  {
   "cell_type": "markdown",
   "id": "ee388dac-6e4f-4b5a-85f6-377740438cfe",
   "metadata": {
    "tags": []
   },
   "source": [
    "### Cis Mapping (Report all cis association statistics)"
   ]
  },
  {
   "cell_type": "code",
   "execution_count": 8,
   "id": "88535d6b-c396-4478-a0fe-1ec99cc54be4",
   "metadata": {},
   "outputs": [],
   "source": [
    "mapcis_out = map_cis_nominal(dat_CD14, family=Poisson())"
   ]
  },
  {
   "cell_type": "code",
   "execution_count": 9,
   "id": "c9fcd80d-71ad-4075-9922-f5c775ff8f95",
   "metadata": {},
   "outputs": [
    {
     "name": "stderr",
     "output_type": "stream",
     "text": [
      "/Users/nicholas/Projects/jaxqtl/src/jaxqtl/map.py:308: SettingWithCopyWarning: \n",
      "A value is trying to be set on a copy of a slice from a DataFrame\n",
      "\n",
      "See the caveats in the documentation: https://pandas.pydata.org/pandas-docs/stable/user_guide/indexing.html#returning-a-view-versus-a-copy\n",
      "  outdf[\"af\"][idx] = af\n",
      "/Users/nicholas/Projects/jaxqtl/src/jaxqtl/map.py:315: SettingWithCopyWarning: \n",
      "A value is trying to be set on a copy of a slice from a DataFrame\n",
      "\n",
      "See the caveats in the documentation: https://pandas.pydata.org/pandas-docs/stable/user_guide/indexing.html#returning-a-view-versus-a-copy\n",
      "  outdf[\"ma_samples\"][idx] = np.sum(g < 1.5)\n",
      "/Users/nicholas/Projects/jaxqtl/src/jaxqtl/map.py:316: SettingWithCopyWarning: \n",
      "A value is trying to be set on a copy of a slice from a DataFrame\n",
      "\n",
      "See the caveats in the documentation: https://pandas.pydata.org/pandas-docs/stable/user_guide/indexing.html#returning-a-view-versus-a-copy\n",
      "  outdf[\"ma_count\"][idx] = n2 - np.sum(g[g > 0.5])\n",
      "/Users/nicholas/Projects/jaxqtl/src/jaxqtl/map.py:310: SettingWithCopyWarning: \n",
      "A value is trying to be set on a copy of a slice from a DataFrame\n",
      "\n",
      "See the caveats in the documentation: https://pandas.pydata.org/pandas-docs/stable/user_guide/indexing.html#returning-a-view-versus-a-copy\n",
      "  outdf[\"ma_samples\"][idx] = np.sum(\n",
      "/Users/nicholas/Projects/jaxqtl/src/jaxqtl/map.py:313: SettingWithCopyWarning: \n",
      "A value is trying to be set on a copy of a slice from a DataFrame\n",
      "\n",
      "See the caveats in the documentation: https://pandas.pydata.org/pandas-docs/stable/user_guide/indexing.html#returning-a-view-versus-a-copy\n",
      "  outdf[\"ma_count\"][idx] = np.sum(g[g > 0.5])  # Number of minor alleles\n",
      "/Users/nicholas/Projects/jaxqtl/src/jaxqtl/map.py:323: SettingWithCopyWarning: \n",
      "A value is trying to be set on a copy of a slice from a DataFrame\n",
      "\n",
      "See the caveats in the documentation: https://pandas.pydata.org/pandas-docs/stable/user_guide/indexing.html#returning-a-view-versus-a-copy\n",
      "  outdf[\"pval_nominal\"][start_row:end_row] = res.nominal_p[idx]\n",
      "/Users/nicholas/Projects/jaxqtl/src/jaxqtl/map.py:324: SettingWithCopyWarning: \n",
      "A value is trying to be set on a copy of a slice from a DataFrame\n",
      "\n",
      "See the caveats in the documentation: https://pandas.pydata.org/pandas-docs/stable/user_guide/indexing.html#returning-a-view-versus-a-copy\n",
      "  outdf[\"slope\"][start_row:end_row] = res.slope[idx]\n",
      "/Users/nicholas/Projects/jaxqtl/src/jaxqtl/map.py:325: SettingWithCopyWarning: \n",
      "A value is trying to be set on a copy of a slice from a DataFrame\n",
      "\n",
      "See the caveats in the documentation: https://pandas.pydata.org/pandas-docs/stable/user_guide/indexing.html#returning-a-view-versus-a-copy\n",
      "  outdf[\"slope_se\"][start_row:end_row] = res.slope_se[idx]\n"
     ]
    },
    {
     "ename": "OSError",
     "evalue": "Cannot save file into a non-existent directory: '../example/result'",
     "output_type": "error",
     "traceback": [
      "\u001B[0;31m---------------------------------------------------------------------------\u001B[0m",
      "\u001B[0;31mOSError\u001B[0m                                   Traceback (most recent call last)",
      "Cell \u001B[0;32mIn[9], line 3\u001B[0m\n\u001B[1;32m      1\u001B[0m prefix \u001B[38;5;241m=\u001B[39m \u001B[38;5;124m\"\u001B[39m\u001B[38;5;124mdat_CD14_n94\u001B[39m\u001B[38;5;124m\"\u001B[39m\n\u001B[1;32m      2\u001B[0m out_dir \u001B[38;5;241m=\u001B[39m \u001B[38;5;124m\"\u001B[39m\u001B[38;5;124m../example/result\u001B[39m\u001B[38;5;124m\"\u001B[39m\n\u001B[0;32m----> 3\u001B[0m \u001B[43mwrite_nominal\u001B[49m\u001B[43m(\u001B[49m\u001B[43mmapcis_out\u001B[49m\u001B[43m,\u001B[49m\u001B[43m \u001B[49m\u001B[43mdat_CD14\u001B[49m\u001B[43m,\u001B[49m\u001B[43m \u001B[49m\u001B[43mout_dir\u001B[49m\u001B[43m,\u001B[49m\u001B[43m \u001B[49m\u001B[43mprefix\u001B[49m\u001B[43m)\u001B[49m\n",
      "File \u001B[0;32m~/Projects/jaxqtl/src/jaxqtl/map.py:331\u001B[0m, in \u001B[0;36mwrite_nominal\u001B[0;34m(res, dat, out_dir, prefix)\u001B[0m\n\u001B[1;32m    329\u001B[0m \u001B[38;5;28;01mfor\u001B[39;00m chrom \u001B[38;5;129;01min\u001B[39;00m outdf[\u001B[38;5;124m\"\u001B[39m\u001B[38;5;124mchrom\u001B[39m\u001B[38;5;124m\"\u001B[39m]\u001B[38;5;241m.\u001B[39munique()\u001B[38;5;241m.\u001B[39mtolist():\n\u001B[1;32m    330\u001B[0m     one_chrom_df \u001B[38;5;241m=\u001B[39m outdf\u001B[38;5;241m.\u001B[39mloc[outdf[\u001B[38;5;124m\"\u001B[39m\u001B[38;5;124mchrom\u001B[39m\u001B[38;5;124m\"\u001B[39m] \u001B[38;5;241m==\u001B[39m chrom]\n\u001B[0;32m--> 331\u001B[0m     \u001B[43mone_chrom_df\u001B[49m\u001B[38;5;241;43m.\u001B[39;49m\u001B[43mto_parquet\u001B[49m\u001B[43m(\u001B[49m\n\u001B[1;32m    332\u001B[0m \u001B[43m        \u001B[49m\u001B[43mos\u001B[49m\u001B[38;5;241;43m.\u001B[39;49m\u001B[43mpath\u001B[49m\u001B[38;5;241;43m.\u001B[39;49m\u001B[43mjoin\u001B[49m\u001B[43m(\u001B[49m\u001B[43mout_dir\u001B[49m\u001B[43m,\u001B[49m\u001B[43m \u001B[49m\u001B[38;5;124;43mf\u001B[39;49m\u001B[38;5;124;43m\"\u001B[39;49m\u001B[38;5;132;43;01m{\u001B[39;49;00m\u001B[43mprefix\u001B[49m\u001B[38;5;132;43;01m}\u001B[39;49;00m\u001B[38;5;124;43m.cis_qtl_pairs.\u001B[39;49m\u001B[38;5;132;43;01m{\u001B[39;49;00m\u001B[43mchrom\u001B[49m\u001B[38;5;132;43;01m}\u001B[39;49;00m\u001B[38;5;124;43m.parquet\u001B[39;49m\u001B[38;5;124;43m\"\u001B[39;49m\u001B[43m)\u001B[49m\n\u001B[1;32m    333\u001B[0m \u001B[43m    \u001B[49m\u001B[43m)\u001B[49m\n",
      "File \u001B[0;32m~/Projects/jaxqtl/venv/lib/python3.9/site-packages/pandas/util/_decorators.py:211\u001B[0m, in \u001B[0;36mdeprecate_kwarg.<locals>._deprecate_kwarg.<locals>.wrapper\u001B[0;34m(*args, **kwargs)\u001B[0m\n\u001B[1;32m    209\u001B[0m     \u001B[38;5;28;01melse\u001B[39;00m:\n\u001B[1;32m    210\u001B[0m         kwargs[new_arg_name] \u001B[38;5;241m=\u001B[39m new_arg_value\n\u001B[0;32m--> 211\u001B[0m \u001B[38;5;28;01mreturn\u001B[39;00m \u001B[43mfunc\u001B[49m\u001B[43m(\u001B[49m\u001B[38;5;241;43m*\u001B[39;49m\u001B[43margs\u001B[49m\u001B[43m,\u001B[49m\u001B[43m \u001B[49m\u001B[38;5;241;43m*\u001B[39;49m\u001B[38;5;241;43m*\u001B[39;49m\u001B[43mkwargs\u001B[49m\u001B[43m)\u001B[49m\n",
      "File \u001B[0;32m~/Projects/jaxqtl/venv/lib/python3.9/site-packages/pandas/core/frame.py:2976\u001B[0m, in \u001B[0;36mDataFrame.to_parquet\u001B[0;34m(self, path, engine, compression, index, partition_cols, storage_options, **kwargs)\u001B[0m\n\u001B[1;32m   2889\u001B[0m \u001B[38;5;250m\u001B[39m\u001B[38;5;124;03m\"\"\"\u001B[39;00m\n\u001B[1;32m   2890\u001B[0m \u001B[38;5;124;03mWrite a DataFrame to the binary parquet format.\u001B[39;00m\n\u001B[1;32m   2891\u001B[0m \n\u001B[0;32m   (...)\u001B[0m\n\u001B[1;32m   2972\u001B[0m \u001B[38;5;124;03m>>> content = f.read()\u001B[39;00m\n\u001B[1;32m   2973\u001B[0m \u001B[38;5;124;03m\"\"\"\u001B[39;00m\n\u001B[1;32m   2974\u001B[0m \u001B[38;5;28;01mfrom\u001B[39;00m \u001B[38;5;21;01mpandas\u001B[39;00m\u001B[38;5;21;01m.\u001B[39;00m\u001B[38;5;21;01mio\u001B[39;00m\u001B[38;5;21;01m.\u001B[39;00m\u001B[38;5;21;01mparquet\u001B[39;00m \u001B[38;5;28;01mimport\u001B[39;00m to_parquet\n\u001B[0;32m-> 2976\u001B[0m \u001B[38;5;28;01mreturn\u001B[39;00m \u001B[43mto_parquet\u001B[49m\u001B[43m(\u001B[49m\n\u001B[1;32m   2977\u001B[0m \u001B[43m    \u001B[49m\u001B[38;5;28;43mself\u001B[39;49m\u001B[43m,\u001B[49m\n\u001B[1;32m   2978\u001B[0m \u001B[43m    \u001B[49m\u001B[43mpath\u001B[49m\u001B[43m,\u001B[49m\n\u001B[1;32m   2979\u001B[0m \u001B[43m    \u001B[49m\u001B[43mengine\u001B[49m\u001B[43m,\u001B[49m\n\u001B[1;32m   2980\u001B[0m \u001B[43m    \u001B[49m\u001B[43mcompression\u001B[49m\u001B[38;5;241;43m=\u001B[39;49m\u001B[43mcompression\u001B[49m\u001B[43m,\u001B[49m\n\u001B[1;32m   2981\u001B[0m \u001B[43m    \u001B[49m\u001B[43mindex\u001B[49m\u001B[38;5;241;43m=\u001B[39;49m\u001B[43mindex\u001B[49m\u001B[43m,\u001B[49m\n\u001B[1;32m   2982\u001B[0m \u001B[43m    \u001B[49m\u001B[43mpartition_cols\u001B[49m\u001B[38;5;241;43m=\u001B[39;49m\u001B[43mpartition_cols\u001B[49m\u001B[43m,\u001B[49m\n\u001B[1;32m   2983\u001B[0m \u001B[43m    \u001B[49m\u001B[43mstorage_options\u001B[49m\u001B[38;5;241;43m=\u001B[39;49m\u001B[43mstorage_options\u001B[49m\u001B[43m,\u001B[49m\n\u001B[1;32m   2984\u001B[0m \u001B[43m    \u001B[49m\u001B[38;5;241;43m*\u001B[39;49m\u001B[38;5;241;43m*\u001B[39;49m\u001B[43mkwargs\u001B[49m\u001B[43m,\u001B[49m\n\u001B[1;32m   2985\u001B[0m \u001B[43m\u001B[49m\u001B[43m)\u001B[49m\n",
      "File \u001B[0;32m~/Projects/jaxqtl/venv/lib/python3.9/site-packages/pandas/io/parquet.py:430\u001B[0m, in \u001B[0;36mto_parquet\u001B[0;34m(df, path, engine, compression, index, storage_options, partition_cols, **kwargs)\u001B[0m\n\u001B[1;32m    426\u001B[0m impl \u001B[38;5;241m=\u001B[39m get_engine(engine)\n\u001B[1;32m    428\u001B[0m path_or_buf: FilePath \u001B[38;5;241m|\u001B[39m WriteBuffer[\u001B[38;5;28mbytes\u001B[39m] \u001B[38;5;241m=\u001B[39m io\u001B[38;5;241m.\u001B[39mBytesIO() \u001B[38;5;28;01mif\u001B[39;00m path \u001B[38;5;129;01mis\u001B[39;00m \u001B[38;5;28;01mNone\u001B[39;00m \u001B[38;5;28;01melse\u001B[39;00m path\n\u001B[0;32m--> 430\u001B[0m \u001B[43mimpl\u001B[49m\u001B[38;5;241;43m.\u001B[39;49m\u001B[43mwrite\u001B[49m\u001B[43m(\u001B[49m\n\u001B[1;32m    431\u001B[0m \u001B[43m    \u001B[49m\u001B[43mdf\u001B[49m\u001B[43m,\u001B[49m\n\u001B[1;32m    432\u001B[0m \u001B[43m    \u001B[49m\u001B[43mpath_or_buf\u001B[49m\u001B[43m,\u001B[49m\n\u001B[1;32m    433\u001B[0m \u001B[43m    \u001B[49m\u001B[43mcompression\u001B[49m\u001B[38;5;241;43m=\u001B[39;49m\u001B[43mcompression\u001B[49m\u001B[43m,\u001B[49m\n\u001B[1;32m    434\u001B[0m \u001B[43m    \u001B[49m\u001B[43mindex\u001B[49m\u001B[38;5;241;43m=\u001B[39;49m\u001B[43mindex\u001B[49m\u001B[43m,\u001B[49m\n\u001B[1;32m    435\u001B[0m \u001B[43m    \u001B[49m\u001B[43mpartition_cols\u001B[49m\u001B[38;5;241;43m=\u001B[39;49m\u001B[43mpartition_cols\u001B[49m\u001B[43m,\u001B[49m\n\u001B[1;32m    436\u001B[0m \u001B[43m    \u001B[49m\u001B[43mstorage_options\u001B[49m\u001B[38;5;241;43m=\u001B[39;49m\u001B[43mstorage_options\u001B[49m\u001B[43m,\u001B[49m\n\u001B[1;32m    437\u001B[0m \u001B[43m    \u001B[49m\u001B[38;5;241;43m*\u001B[39;49m\u001B[38;5;241;43m*\u001B[39;49m\u001B[43mkwargs\u001B[49m\u001B[43m,\u001B[49m\n\u001B[1;32m    438\u001B[0m \u001B[43m\u001B[49m\u001B[43m)\u001B[49m\n\u001B[1;32m    440\u001B[0m \u001B[38;5;28;01mif\u001B[39;00m path \u001B[38;5;129;01mis\u001B[39;00m \u001B[38;5;28;01mNone\u001B[39;00m:\n\u001B[1;32m    441\u001B[0m     \u001B[38;5;28;01massert\u001B[39;00m \u001B[38;5;28misinstance\u001B[39m(path_or_buf, io\u001B[38;5;241m.\u001B[39mBytesIO)\n",
      "File \u001B[0;32m~/Projects/jaxqtl/venv/lib/python3.9/site-packages/pandas/io/parquet.py:176\u001B[0m, in \u001B[0;36mPyArrowImpl.write\u001B[0;34m(self, df, path, compression, index, storage_options, partition_cols, **kwargs)\u001B[0m\n\u001B[1;32m    172\u001B[0m     from_pandas_kwargs[\u001B[38;5;124m\"\u001B[39m\u001B[38;5;124mpreserve_index\u001B[39m\u001B[38;5;124m\"\u001B[39m] \u001B[38;5;241m=\u001B[39m index\n\u001B[1;32m    174\u001B[0m table \u001B[38;5;241m=\u001B[39m \u001B[38;5;28mself\u001B[39m\u001B[38;5;241m.\u001B[39mapi\u001B[38;5;241m.\u001B[39mTable\u001B[38;5;241m.\u001B[39mfrom_pandas(df, \u001B[38;5;241m*\u001B[39m\u001B[38;5;241m*\u001B[39mfrom_pandas_kwargs)\n\u001B[0;32m--> 176\u001B[0m path_or_handle, handles, kwargs[\u001B[38;5;124m\"\u001B[39m\u001B[38;5;124mfilesystem\u001B[39m\u001B[38;5;124m\"\u001B[39m] \u001B[38;5;241m=\u001B[39m \u001B[43m_get_path_or_handle\u001B[49m\u001B[43m(\u001B[49m\n\u001B[1;32m    177\u001B[0m \u001B[43m    \u001B[49m\u001B[43mpath\u001B[49m\u001B[43m,\u001B[49m\n\u001B[1;32m    178\u001B[0m \u001B[43m    \u001B[49m\u001B[43mkwargs\u001B[49m\u001B[38;5;241;43m.\u001B[39;49m\u001B[43mpop\u001B[49m\u001B[43m(\u001B[49m\u001B[38;5;124;43m\"\u001B[39;49m\u001B[38;5;124;43mfilesystem\u001B[39;49m\u001B[38;5;124;43m\"\u001B[39;49m\u001B[43m,\u001B[49m\u001B[43m \u001B[49m\u001B[38;5;28;43;01mNone\u001B[39;49;00m\u001B[43m)\u001B[49m\u001B[43m,\u001B[49m\n\u001B[1;32m    179\u001B[0m \u001B[43m    \u001B[49m\u001B[43mstorage_options\u001B[49m\u001B[38;5;241;43m=\u001B[39;49m\u001B[43mstorage_options\u001B[49m\u001B[43m,\u001B[49m\n\u001B[1;32m    180\u001B[0m \u001B[43m    \u001B[49m\u001B[43mmode\u001B[49m\u001B[38;5;241;43m=\u001B[39;49m\u001B[38;5;124;43m\"\u001B[39;49m\u001B[38;5;124;43mwb\u001B[39;49m\u001B[38;5;124;43m\"\u001B[39;49m\u001B[43m,\u001B[49m\n\u001B[1;32m    181\u001B[0m \u001B[43m    \u001B[49m\u001B[43mis_dir\u001B[49m\u001B[38;5;241;43m=\u001B[39;49m\u001B[43mpartition_cols\u001B[49m\u001B[43m \u001B[49m\u001B[38;5;129;43;01mis\u001B[39;49;00m\u001B[43m \u001B[49m\u001B[38;5;129;43;01mnot\u001B[39;49;00m\u001B[43m \u001B[49m\u001B[38;5;28;43;01mNone\u001B[39;49;00m\u001B[43m,\u001B[49m\n\u001B[1;32m    182\u001B[0m \u001B[43m\u001B[49m\u001B[43m)\u001B[49m\n\u001B[1;32m    183\u001B[0m \u001B[38;5;28;01mif\u001B[39;00m (\n\u001B[1;32m    184\u001B[0m     \u001B[38;5;28misinstance\u001B[39m(path_or_handle, io\u001B[38;5;241m.\u001B[39mBufferedWriter)\n\u001B[1;32m    185\u001B[0m     \u001B[38;5;129;01mand\u001B[39;00m \u001B[38;5;28mhasattr\u001B[39m(path_or_handle, \u001B[38;5;124m\"\u001B[39m\u001B[38;5;124mname\u001B[39m\u001B[38;5;124m\"\u001B[39m)\n\u001B[1;32m    186\u001B[0m     \u001B[38;5;129;01mand\u001B[39;00m \u001B[38;5;28misinstance\u001B[39m(path_or_handle\u001B[38;5;241m.\u001B[39mname, (\u001B[38;5;28mstr\u001B[39m, \u001B[38;5;28mbytes\u001B[39m))\n\u001B[1;32m    187\u001B[0m ):\n\u001B[1;32m    188\u001B[0m     path_or_handle \u001B[38;5;241m=\u001B[39m path_or_handle\u001B[38;5;241m.\u001B[39mname\n",
      "File \u001B[0;32m~/Projects/jaxqtl/venv/lib/python3.9/site-packages/pandas/io/parquet.py:102\u001B[0m, in \u001B[0;36m_get_path_or_handle\u001B[0;34m(path, fs, storage_options, mode, is_dir)\u001B[0m\n\u001B[1;32m     92\u001B[0m handles \u001B[38;5;241m=\u001B[39m \u001B[38;5;28;01mNone\u001B[39;00m\n\u001B[1;32m     93\u001B[0m \u001B[38;5;28;01mif\u001B[39;00m (\n\u001B[1;32m     94\u001B[0m     \u001B[38;5;129;01mnot\u001B[39;00m fs\n\u001B[1;32m     95\u001B[0m     \u001B[38;5;129;01mand\u001B[39;00m \u001B[38;5;129;01mnot\u001B[39;00m is_dir\n\u001B[0;32m   (...)\u001B[0m\n\u001B[1;32m    100\u001B[0m     \u001B[38;5;66;03m# fsspec resources can also point to directories\u001B[39;00m\n\u001B[1;32m    101\u001B[0m     \u001B[38;5;66;03m# this branch is used for example when reading from non-fsspec URLs\u001B[39;00m\n\u001B[0;32m--> 102\u001B[0m     handles \u001B[38;5;241m=\u001B[39m \u001B[43mget_handle\u001B[49m\u001B[43m(\u001B[49m\n\u001B[1;32m    103\u001B[0m \u001B[43m        \u001B[49m\u001B[43mpath_or_handle\u001B[49m\u001B[43m,\u001B[49m\u001B[43m \u001B[49m\u001B[43mmode\u001B[49m\u001B[43m,\u001B[49m\u001B[43m \u001B[49m\u001B[43mis_text\u001B[49m\u001B[38;5;241;43m=\u001B[39;49m\u001B[38;5;28;43;01mFalse\u001B[39;49;00m\u001B[43m,\u001B[49m\u001B[43m \u001B[49m\u001B[43mstorage_options\u001B[49m\u001B[38;5;241;43m=\u001B[39;49m\u001B[43mstorage_options\u001B[49m\n\u001B[1;32m    104\u001B[0m \u001B[43m    \u001B[49m\u001B[43m)\u001B[49m\n\u001B[1;32m    105\u001B[0m     fs \u001B[38;5;241m=\u001B[39m \u001B[38;5;28;01mNone\u001B[39;00m\n\u001B[1;32m    106\u001B[0m     path_or_handle \u001B[38;5;241m=\u001B[39m handles\u001B[38;5;241m.\u001B[39mhandle\n",
      "File \u001B[0;32m~/Projects/jaxqtl/venv/lib/python3.9/site-packages/pandas/io/common.py:734\u001B[0m, in \u001B[0;36mget_handle\u001B[0;34m(path_or_buf, mode, encoding, compression, memory_map, is_text, errors, storage_options)\u001B[0m\n\u001B[1;32m    732\u001B[0m \u001B[38;5;66;03m# Only for write methods\u001B[39;00m\n\u001B[1;32m    733\u001B[0m \u001B[38;5;28;01mif\u001B[39;00m \u001B[38;5;124m\"\u001B[39m\u001B[38;5;124mr\u001B[39m\u001B[38;5;124m\"\u001B[39m \u001B[38;5;129;01mnot\u001B[39;00m \u001B[38;5;129;01min\u001B[39;00m mode \u001B[38;5;129;01mand\u001B[39;00m is_path:\n\u001B[0;32m--> 734\u001B[0m     \u001B[43mcheck_parent_directory\u001B[49m\u001B[43m(\u001B[49m\u001B[38;5;28;43mstr\u001B[39;49m\u001B[43m(\u001B[49m\u001B[43mhandle\u001B[49m\u001B[43m)\u001B[49m\u001B[43m)\u001B[49m\n\u001B[1;32m    736\u001B[0m \u001B[38;5;28;01mif\u001B[39;00m compression:\n\u001B[1;32m    737\u001B[0m     \u001B[38;5;28;01mif\u001B[39;00m compression \u001B[38;5;241m!=\u001B[39m \u001B[38;5;124m\"\u001B[39m\u001B[38;5;124mzstd\u001B[39m\u001B[38;5;124m\"\u001B[39m:\n\u001B[1;32m    738\u001B[0m         \u001B[38;5;66;03m# compression libraries do not like an explicit text-mode\u001B[39;00m\n",
      "File \u001B[0;32m~/Projects/jaxqtl/venv/lib/python3.9/site-packages/pandas/io/common.py:597\u001B[0m, in \u001B[0;36mcheck_parent_directory\u001B[0;34m(path)\u001B[0m\n\u001B[1;32m    595\u001B[0m parent \u001B[38;5;241m=\u001B[39m Path(path)\u001B[38;5;241m.\u001B[39mparent\n\u001B[1;32m    596\u001B[0m \u001B[38;5;28;01mif\u001B[39;00m \u001B[38;5;129;01mnot\u001B[39;00m parent\u001B[38;5;241m.\u001B[39mis_dir():\n\u001B[0;32m--> 597\u001B[0m     \u001B[38;5;28;01mraise\u001B[39;00m \u001B[38;5;167;01mOSError\u001B[39;00m(\u001B[38;5;124mrf\u001B[39m\u001B[38;5;124m\"\u001B[39m\u001B[38;5;124mCannot save file into a non-existent directory: \u001B[39m\u001B[38;5;124m'\u001B[39m\u001B[38;5;132;01m{\u001B[39;00mparent\u001B[38;5;132;01m}\u001B[39;00m\u001B[38;5;124m'\u001B[39m\u001B[38;5;124m\"\u001B[39m)\n",
      "\u001B[0;31mOSError\u001B[0m: Cannot save file into a non-existent directory: '../example/result'"
     ]
    }
   ],
   "source": [
    "prefix = \"dat_CD14_n94\"\n",
    "out_dir = \"../example/result\"\n",
    "write_nominal(mapcis_out, dat_CD14, out_dir, prefix)"
   ]
  },
  {
   "cell_type": "code",
   "execution_count": null,
   "id": "7d4b26c5-874d-40a8-97e5-2219f274ae39",
   "metadata": {},
   "outputs": [],
   "source": [
    "# load result\n",
    "pairs_df = pd.read_parquet(os.path.join(out_dir, f'{prefix}.cis_qtl_pairs.22.parquet'))\n",
    "pairs_df.head()"
   ]
  }
 ],
 "metadata": {
  "kernelspec": {
   "display_name": "Python 3 (ipykernel)",
   "language": "python",
   "name": "python3"
  },
  "language_info": {
   "codemirror_mode": {
    "name": "ipython",
    "version": 3
   },
   "file_extension": ".py",
   "mimetype": "text/x-python",
   "name": "python",
   "nbconvert_exporter": "python",
   "pygments_lexer": "ipython3",
   "version": "3.10.10"
  }
 },
 "nbformat": 4,
 "nbformat_minor": 5
}
