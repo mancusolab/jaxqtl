{
 "cells": [
  {
   "cell_type": "markdown",
   "id": "ce412e60-d13f-47cb-b938-632a2f36d43d",
   "metadata": {},
   "source": [
    "eQTL mapping for n=94"
   ]
  },
  {
   "cell_type": "code",
   "execution_count": 12,
   "id": "3bce7902-ba74-4a07-ab5e-9c57345baff3",
   "metadata": {},
   "outputs": [],
   "source": [
    "import pandas as pd\n",
    "import os\n",
    "\n",
    "from jax.config import config\n",
    "\n",
    "from jaxqtl.families.distribution import Poisson\n",
    "from jaxqtl.io.geno import PlinkReader\n",
    "from jaxqtl.io.pheno import PheBedReader\n",
    "from jaxqtl.io.readfile import read_data\n",
    "from jaxqtl.map import map_cis, map_cis_nominal, prepare_cis_output, write_nominal\n",
    "from jaxqtl.infer.permutation import BetaPerm, DirectPerm, Permutation\n",
    "\n",
    "config.update(\"jax_enable_x64\", True)"
   ]
  },
  {
   "cell_type": "markdown",
   "id": "f7bf395b-7651-49bc-afd9-47eed4f24e5f",
   "metadata": {},
   "source": [
    "### Read data"
   ]
  },
  {
   "cell_type": "code",
   "execution_count": 2,
   "id": "05d9f503-b2d9-4b15-8ebf-b93ac6b16245",
   "metadata": {},
   "outputs": [],
   "source": [
    "geno_path = \"../example/data/chr22.bed\"\n",
    "covar_path = \"../example/data/donor_features.tsv\"\n",
    "pheno_path = \"../example/data/CD14_positive_monocyte.bed.gz\""
   ]
  },
  {
   "cell_type": "code",
   "execution_count": 3,
   "id": "5a9da72e-d647-444c-8ebf-c34b95bc8e64",
   "metadata": {},
   "outputs": [],
   "source": [
    "# read raw data under one data class\n",
    "dat = read_data(\n",
    "    geno_path,\n",
    "    pheno_path,\n",
    "    covar_path,\n",
    "    geno_reader=PlinkReader(),\n",
    "    pheno_reader=PheBedReader(),\n",
    ")\n",
    "# dat contains: dat.geno, dat.bim, dat.count, dat.covar"
   ]
  },
  {
   "cell_type": "code",
   "execution_count": 4,
   "id": "c7c2c2c2-8354-47e7-89fe-ba4bc989c392",
   "metadata": {},
   "outputs": [],
   "source": [
    "# format data to get ready for mapping\n",
    "dat_CD14 = dat.create_ReadyData()\n",
    "\n",
    "# dat_CD14.geno # jnp.ndarray\n",
    "# dat_CD14.bim  # pd.DataFrame\n",
    "# dat_CD14.pheno # ExpressionData, iterable object\n",
    "# dat_CD14.pheno_meta # GeneMetaData, iterable object providing tss location for identifying cis-window\n",
    "# dat_CD14.covar # jnp.ndarray"
   ]
  },
  {
   "cell_type": "markdown",
   "id": "d1d438c8-018d-416c-831b-66e1991cf276",
   "metadata": {},
   "source": [
    "### Cis Mapping (Report lead eQTL for each gene)"
   ]
  },
  {
   "cell_type": "code",
   "execution_count": 6,
   "id": "4e5338d9-fd31-4698-9478-fc6356c194ab",
   "metadata": {},
   "outputs": [],
   "source": [
    "# Default is fitting poisson model and report nominal and adjusted p value using beta distribution method\n",
    "# for unit testing, run cis-mapping for the first two genes\n",
    "\n",
    "mapcis_out = map_cis(dat_CD14, family=Poisson(), perm=BetaPerm())"
   ]
  },
  {
   "cell_type": "code",
   "execution_count": 7,
   "id": "a68fd7e8-df88-4ed8-969b-ba51e67c34f6",
   "metadata": {},
   "outputs": [
    {
     "data": {
      "text/html": [
       "<div>\n",
       "<style scoped>\n",
       "    .dataframe tbody tr th:only-of-type {\n",
       "        vertical-align: middle;\n",
       "    }\n",
       "\n",
       "    .dataframe tbody tr th {\n",
       "        vertical-align: top;\n",
       "    }\n",
       "\n",
       "    .dataframe thead th {\n",
       "        text-align: right;\n",
       "    }\n",
       "</style>\n",
       "<table border=\"1\" class=\"dataframe\">\n",
       "  <thead>\n",
       "    <tr style=\"text-align: right;\">\n",
       "      <th></th>\n",
       "      <th>phenotype_id</th>\n",
       "      <th>num_var</th>\n",
       "      <th>beta_shape1</th>\n",
       "      <th>beta_shape2</th>\n",
       "      <th>true_df</th>\n",
       "      <th>pval_true_df</th>\n",
       "      <th>variant_id</th>\n",
       "      <th>tss_distance</th>\n",
       "      <th>ma_samples</th>\n",
       "      <th>ma_count</th>\n",
       "      <th>af</th>\n",
       "      <th>pval_nominal</th>\n",
       "      <th>slope</th>\n",
       "      <th>slope_se</th>\n",
       "      <th>pval_perm</th>\n",
       "      <th>pval_beta</th>\n",
       "    </tr>\n",
       "  </thead>\n",
       "  <tbody>\n",
       "    <tr>\n",
       "      <th>0</th>\n",
       "      <td>ENSG00000177663</td>\n",
       "      <td>2654</td>\n",
       "      <td>-4.420266426224249e+55</td>\n",
       "      <td>-1.1228169994115175e+60</td>\n",
       "      <td>NaN</td>\n",
       "      <td>NaN</td>\n",
       "      <td>22:17691970</td>\n",
       "      <td>126126</td>\n",
       "      <td>2</td>\n",
       "      <td>2.0</td>\n",
       "      <td>0.989362</td>\n",
       "      <td>3.8775417201163924e-173</td>\n",
       "      <td>-1.2973851408297485</td>\n",
       "      <td>0.04625084473330977</td>\n",
       "      <td>0.047619047619047616</td>\n",
       "      <td>nan</td>\n",
       "    </tr>\n",
       "    <tr>\n",
       "      <th>1</th>\n",
       "      <td>ENSG00000069998</td>\n",
       "      <td>2962</td>\n",
       "      <td>0.06829405328330823</td>\n",
       "      <td>0.6103465238525416</td>\n",
       "      <td>NaN</td>\n",
       "      <td>NaN</td>\n",
       "      <td>22:17071513</td>\n",
       "      <td>-574664</td>\n",
       "      <td>9</td>\n",
       "      <td>9.0</td>\n",
       "      <td>0.952128</td>\n",
       "      <td>7.135309552751956e-96</td>\n",
       "      <td>-1.0836402242235912</td>\n",
       "      <td>0.05215825440904575</td>\n",
       "      <td>0.047619047619047616</td>\n",
       "      <td>2.9946429610471194e-07</td>\n",
       "    </tr>\n",
       "  </tbody>\n",
       "</table>\n",
       "</div>"
      ],
      "text/plain": [
       "      phenotype_id  num_var             beta_shape1              beta_shape2  \\\n",
       "0  ENSG00000177663     2654  -4.420266426224249e+55  -1.1228169994115175e+60   \n",
       "1  ENSG00000069998     2962     0.06829405328330823       0.6103465238525416   \n",
       "\n",
       "   true_df  pval_true_df   variant_id  tss_distance  ma_samples  ma_count  \\\n",
       "0      NaN           NaN  22:17691970        126126           2       2.0   \n",
       "1      NaN           NaN  22:17071513       -574664           9       9.0   \n",
       "\n",
       "         af             pval_nominal                slope  \\\n",
       "0  0.989362  3.8775417201163924e-173  -1.2973851408297485   \n",
       "1  0.952128    7.135309552751956e-96  -1.0836402242235912   \n",
       "\n",
       "              slope_se             pval_perm               pval_beta  \n",
       "0  0.04625084473330977  0.047619047619047616                     nan  \n",
       "1  0.05215825440904575  0.047619047619047616  2.9946429610471194e-07  "
      ]
     },
     "execution_count": 7,
     "metadata": {},
     "output_type": "execute_result"
    }
   ],
   "source": [
    "mapcis_df = prepare_cis_output(dat_CD14, mapcis_out)\n",
    "mapcis_df.head()"
   ]
  },
  {
   "cell_type": "markdown",
   "id": "ee388dac-6e4f-4b5a-85f6-377740438cfe",
   "metadata": {
    "tags": []
   },
   "source": [
    "### Cis Mapping (Report all cis association statistics)"
   ]
  },
  {
   "cell_type": "code",
   "execution_count": 14,
   "id": "88535d6b-c396-4478-a0fe-1ec99cc54be4",
   "metadata": {},
   "outputs": [],
   "source": [
    "mapcis_out = map_cis_nominal(dat_CD14, family=Poisson())"
   ]
  },
  {
   "cell_type": "code",
   "execution_count": 15,
   "id": "c9fcd80d-71ad-4075-9922-f5c775ff8f95",
   "metadata": {},
   "outputs": [
    {
     "name": "stderr",
     "output_type": "stream",
     "text": [
      "/Users/zixuanzhang/Dropbox/PhD_Projects/Nick/jaxqtl/src/jaxqtl/map.py:265: SettingWithCopyWarning: \n",
      "A value is trying to be set on a copy of a slice from a DataFrame\n",
      "\n",
      "See the caveats in the documentation: https://pandas.pydata.org/pandas-docs/stable/user_guide/indexing.html#returning-a-view-versus-a-copy\n",
      "  outdf['pval_nominal'][start_row:end_row] = res.nominal_p[idx]\n",
      "/Users/zixuanzhang/Dropbox/PhD_Projects/Nick/jaxqtl/src/jaxqtl/map.py:266: SettingWithCopyWarning: \n",
      "A value is trying to be set on a copy of a slice from a DataFrame\n",
      "\n",
      "See the caveats in the documentation: https://pandas.pydata.org/pandas-docs/stable/user_guide/indexing.html#returning-a-view-versus-a-copy\n",
      "  outdf['slope'][start_row:end_row] = res.slope[idx]\n",
      "/Users/zixuanzhang/Dropbox/PhD_Projects/Nick/jaxqtl/src/jaxqtl/map.py:267: SettingWithCopyWarning: \n",
      "A value is trying to be set on a copy of a slice from a DataFrame\n",
      "\n",
      "See the caveats in the documentation: https://pandas.pydata.org/pandas-docs/stable/user_guide/indexing.html#returning-a-view-versus-a-copy\n",
      "  outdf['slope_se'][start_row:end_row] = res.slope_se[idx]\n"
     ]
    }
   ],
   "source": [
    "prefix = \"dat_CD14_n94\"\n",
    "out_dir = \"../example/result\"\n",
    "write_nominal(mapcis_out, out_dir, prefix)"
   ]
  },
  {
   "cell_type": "code",
   "execution_count": 16,
   "id": "7d4b26c5-874d-40a8-97e5-2219f274ae39",
   "metadata": {},
   "outputs": [
    {
     "data": {
      "text/html": [
       "<div>\n",
       "<style scoped>\n",
       "    .dataframe tbody tr th:only-of-type {\n",
       "        vertical-align: middle;\n",
       "    }\n",
       "\n",
       "    .dataframe tbody tr th {\n",
       "        vertical-align: top;\n",
       "    }\n",
       "\n",
       "    .dataframe thead th {\n",
       "        text-align: right;\n",
       "    }\n",
       "</style>\n",
       "<table border=\"1\" class=\"dataframe\">\n",
       "  <thead>\n",
       "    <tr style=\"text-align: right;\">\n",
       "      <th></th>\n",
       "      <th>chrom</th>\n",
       "      <th>snp</th>\n",
       "      <th>pos</th>\n",
       "      <th>phenotype_id</th>\n",
       "      <th>tss_distance</th>\n",
       "      <th>af</th>\n",
       "      <th>ma_samples</th>\n",
       "      <th>ma_count</th>\n",
       "      <th>pval_nominal</th>\n",
       "      <th>slope</th>\n",
       "      <th>slope_se</th>\n",
       "    </tr>\n",
       "  </thead>\n",
       "  <tbody>\n",
       "    <tr>\n",
       "      <th>0</th>\n",
       "      <td>22</td>\n",
       "      <td>22:17066020:C:T</td>\n",
       "      <td>17066020</td>\n",
       "      <td>ENSG00000177663</td>\n",
       "      <td>-499824</td>\n",
       "      <td>NaN</td>\n",
       "      <td>NaN</td>\n",
       "      <td>NaN</td>\n",
       "      <td>6.770875e-30</td>\n",
       "      <td>1.861333</td>\n",
       "      <td>0.163879</td>\n",
       "    </tr>\n",
       "    <tr>\n",
       "      <th>1</th>\n",
       "      <td>22</td>\n",
       "      <td>22:17066700:C:T</td>\n",
       "      <td>17066700</td>\n",
       "      <td>ENSG00000177663</td>\n",
       "      <td>-499144</td>\n",
       "      <td>NaN</td>\n",
       "      <td>NaN</td>\n",
       "      <td>NaN</td>\n",
       "      <td>1.012771e-02</td>\n",
       "      <td>-0.050836</td>\n",
       "      <td>0.019769</td>\n",
       "    </tr>\n",
       "    <tr>\n",
       "      <th>2</th>\n",
       "      <td>22</td>\n",
       "      <td>22:17067504:T:G</td>\n",
       "      <td>17067504</td>\n",
       "      <td>ENSG00000177663</td>\n",
       "      <td>-498340</td>\n",
       "      <td>NaN</td>\n",
       "      <td>NaN</td>\n",
       "      <td>NaN</td>\n",
       "      <td>2.865608e-02</td>\n",
       "      <td>-0.041832</td>\n",
       "      <td>0.019117</td>\n",
       "    </tr>\n",
       "    <tr>\n",
       "      <th>3</th>\n",
       "      <td>22</td>\n",
       "      <td>22:17068400:T:C</td>\n",
       "      <td>17068400</td>\n",
       "      <td>ENSG00000177663</td>\n",
       "      <td>-497444</td>\n",
       "      <td>NaN</td>\n",
       "      <td>NaN</td>\n",
       "      <td>NaN</td>\n",
       "      <td>3.782973e-08</td>\n",
       "      <td>0.137724</td>\n",
       "      <td>0.025038</td>\n",
       "    </tr>\n",
       "    <tr>\n",
       "      <th>4</th>\n",
       "      <td>22</td>\n",
       "      <td>22:17069064:A:T</td>\n",
       "      <td>17069064</td>\n",
       "      <td>ENSG00000177663</td>\n",
       "      <td>-496780</td>\n",
       "      <td>NaN</td>\n",
       "      <td>NaN</td>\n",
       "      <td>NaN</td>\n",
       "      <td>2.886101e-07</td>\n",
       "      <td>0.139704</td>\n",
       "      <td>0.027229</td>\n",
       "    </tr>\n",
       "  </tbody>\n",
       "</table>\n",
       "</div>"
      ],
      "text/plain": [
       "  chrom              snp       pos     phenotype_id  tss_distance  af  \\\n",
       "0    22  22:17066020:C:T  17066020  ENSG00000177663       -499824 NaN   \n",
       "1    22  22:17066700:C:T  17066700  ENSG00000177663       -499144 NaN   \n",
       "2    22  22:17067504:T:G  17067504  ENSG00000177663       -498340 NaN   \n",
       "3    22  22:17068400:T:C  17068400  ENSG00000177663       -497444 NaN   \n",
       "4    22  22:17069064:A:T  17069064  ENSG00000177663       -496780 NaN   \n",
       "\n",
       "   ma_samples  ma_count  pval_nominal     slope  slope_se  \n",
       "0         NaN       NaN  6.770875e-30  1.861333  0.163879  \n",
       "1         NaN       NaN  1.012771e-02 -0.050836  0.019769  \n",
       "2         NaN       NaN  2.865608e-02 -0.041832  0.019117  \n",
       "3         NaN       NaN  3.782973e-08  0.137724  0.025038  \n",
       "4         NaN       NaN  2.886101e-07  0.139704  0.027229  "
      ]
     },
     "execution_count": 16,
     "metadata": {},
     "output_type": "execute_result"
    }
   ],
   "source": [
    "# load result\n",
    "pairs_df = pd.read_parquet(os.path.join(out_dir, f'{prefix}.cis_qtl_pairs.22.parquet'))\n",
    "pairs_df.head()"
   ]
  }
 ],
 "metadata": {
  "kernelspec": {
   "display_name": "Python 3 (ipykernel)",
   "language": "python",
   "name": "python3"
  },
  "language_info": {
   "codemirror_mode": {
    "name": "ipython",
    "version": 3
   },
   "file_extension": ".py",
   "mimetype": "text/x-python",
   "name": "python",
   "nbconvert_exporter": "python",
   "pygments_lexer": "ipython3",
   "version": "3.10.10"
  }
 },
 "nbformat": 4,
 "nbformat_minor": 5
}
